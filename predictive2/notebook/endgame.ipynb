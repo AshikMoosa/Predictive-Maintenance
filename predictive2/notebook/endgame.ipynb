{
 "cells": [
  {
   "cell_type": "code",
   "execution_count": 1,
   "metadata": {},
   "outputs": [],
   "source": [
    "#import\n",
    "import pandas as pd\n",
    "import numpy as np\n",
    "import os\n",
    "from sklearn.ensemble import RandomForestClassifier \n",
    "from sklearn.impute import SimpleImputer\n",
    "from sklearn.preprocessing import StandardScaler\n",
    "from sklearn.pipeline import Pipeline\n",
    "from sklearn.metrics import accuracy_score"
   ]
  },
  {
   "cell_type": "markdown",
   "metadata": {},
   "source": [
    "# Import Data"
   ]
  },
  {
   "cell_type": "code",
   "execution_count": 2,
   "metadata": {},
   "outputs": [],
   "source": [
    "#set path for raw data\n",
    "raw_data_path = os.path.join(os.path.pardir,'data','raw')\n",
    "train_file_path = os.path.join(raw_data_path, 'train.csv')\n",
    "test_file_path = os.path.join(raw_data_path, 'test.csv')"
   ]
  },
  {
   "cell_type": "code",
   "execution_count": 3,
   "metadata": {},
   "outputs": [],
   "source": [
    "#read data with all parameters\n",
    "train_df = pd.read_csv(train_file_path, index_col='ord')\n",
    "test_df = pd.read_csv(test_file_path, index_col='ord')"
   ]
  },
  {
   "cell_type": "code",
   "execution_count": 4,
   "metadata": {},
   "outputs": [
    {
     "data": {
      "text/plain": [
       "pandas.core.frame.DataFrame"
      ]
     },
     "execution_count": 4,
     "metadata": {},
     "output_type": "execute_result"
    }
   ],
   "source": [
    "# get the type\n",
    "type(train_df)"
   ]
  },
  {
   "cell_type": "markdown",
   "metadata": {},
   "source": [
    "# Basic Structure"
   ]
  },
  {
   "cell_type": "code",
   "execution_count": 5,
   "metadata": {
    "scrolled": false
   },
   "outputs": [],
   "source": [
    "#train_df.info()\n",
    "train_df.drop(['TIME','LATITUDE','LONGITUDE','ALTITUDE','VEHICLE_ID','BAROMETRIC_PRESSURE','ENGINE_COOLANT_TEMP','FUEL_LEVEL','AMBIENT_AIR_TEMP','INTAKE_MANIFOLD_PRESSURE','MAF','TERM FUEL TRIM BANK 1','FUEL_ECONOMY','LONG TERM FUEL TRIM BANK 2','FUEL_TYPE','AIR_INTAKE_TEMP','FUEL_PRESSURE','SHORT TERM FUEL TRIM BANK 2','SHORT TERM FUEL TRIM BANK 1','ENGINE_RUNTIME','TIMING_ADVANCE','DTC_NUMBER','TROUBLE_CODES','TIMING_ADVANCE','EQUIV_RATIO','aqui'], axis=1 , inplace=True)\n",
    "test_df.drop(['TIME','LATITUDE','LONGITUDE','ALTITUDE','VEHICLE_ID','BAROMETRIC_PRESSURE','ENGINE_COOLANT_TEMP','FUEL_LEVEL','AMBIENT_AIR_TEMP','INTAKE_MANIFOLD_PRESSURE','MAF','TERM FUEL TRIM BANK 1','FUEL_ECONOMY','LONG TERM FUEL TRIM BANK 2','FUEL_TYPE','AIR_INTAKE_TEMP','FUEL_PRESSURE','SHORT TERM FUEL TRIM BANK 2','SHORT TERM FUEL TRIM BANK 1','ENGINE_RUNTIME','TIMING_ADVANCE','DTC_NUMBER','TROUBLE_CODES','TIMING_ADVANCE','EQUIV_RATIO','aqui'], axis=1 , inplace=True)\n",
    "\n",
    "\n",
    "train_df['ENGINE_LOAD'] = train_df['ENGINE_LOAD'].str.replace(',','.')\n",
    "train_df['THROTTLE_POS'] = train_df['THROTTLE_POS'].str.replace(',','.')\n",
    "\n",
    "\n",
    "test_df['ENGINE_LOAD'] = test_df['ENGINE_LOAD'].str.replace(',','.')\n",
    "test_df['THROTTLE_POS'] = test_df['THROTTLE_POS'].str.replace(',','.')"
   ]
  },
  {
   "cell_type": "code",
   "execution_count": 6,
   "metadata": {},
   "outputs": [],
   "source": [
    "#concat train & test data for cleaning , axis=0/1 ,0-row concat,1-column concat\n",
    "df = pd.concat((train_df,test_df),axis=0)\n",
    "df['ENGINE_LOAD'] = df['ENGINE_LOAD'].str.replace(',','.')\n",
    "df['THROTTLE_POS'] = df['THROTTLE_POS'].str.replace(',','.')\n",
    "\n",
    "\n",
    "\n",
    "median_ect = df['THROTTLE_POS'].median()\n",
    "\n",
    "df.THROTTLE_POS.fillna(median_ect, inplace= True)\n",
    "median_ect = df['SPEED'].median()\n",
    "\n",
    "df.SPEED.fillna(median_ect, inplace= True)\n",
    "median_ect = df['ENGINE_LOAD'].median()\n",
    "\n",
    "df.ENGINE_LOAD.fillna(median_ect, inplace= True)\n",
    "\n",
    "\n",
    "\n",
    "median_ect = train_df['THROTTLE_POS'].median()\n",
    "\n",
    "train_df.THROTTLE_POS.fillna(median_ect, inplace= True)\n",
    "median_ect = train_df['SPEED'].median()\n",
    "\n",
    "train_df.SPEED.fillna(median_ect, inplace= True)\n",
    "median_ect = train_df['ENGINE_LOAD'].median()\n",
    "\n",
    "train_df.ENGINE_LOAD.fillna(median_ect, inplace= True)\n",
    "\n",
    "\n",
    "\n",
    "median_ect = test_df['THROTTLE_POS'].median()\n",
    "\n",
    "test_df.THROTTLE_POS.fillna(median_ect, inplace= True)\n",
    "median_ect = test_df['SPEED'].median()\n",
    "\n",
    "test_df.SPEED.fillna(median_ect, inplace= True)\n",
    "median_ect = test_df['ENGINE_LOAD'].median()\n",
    "\n",
    "test_df.ENGINE_LOAD.fillna(median_ect, inplace= True)\n"
   ]
  },
  {
   "cell_type": "code",
   "execution_count": 7,
   "metadata": {},
   "outputs": [
    {
     "name": "stdout",
     "output_type": "stream",
     "text": [
      "<class 'pandas.core.frame.DataFrame'>\n",
      "Int64Index: 1000 entries, 1 to 1000\n",
      "Data columns (total 4 columns):\n",
      "ENGINE_LOAD     1000 non-null object\n",
      "ENGINE_RPM      1000 non-null int64\n",
      "SPEED           1000 non-null float64\n",
      "THROTTLE_POS    1000 non-null object\n",
      "dtypes: float64(1), int64(1), object(2)\n",
      "memory usage: 39.1+ KB\n"
     ]
    }
   ],
   "source": [
    "df.info()"
   ]
  },
  {
   "cell_type": "code",
   "execution_count": 8,
   "metadata": {},
   "outputs": [
    {
     "name": "stdout",
     "output_type": "stream",
     "text": [
      "<class 'pandas.core.frame.DataFrame'>\n",
      "Int64Index: 800 entries, 1 to 800\n",
      "Data columns (total 4 columns):\n",
      "ENGINE_LOAD     800 non-null object\n",
      "ENGINE_RPM      800 non-null int64\n",
      "SPEED           800 non-null float64\n",
      "THROTTLE_POS    800 non-null object\n",
      "dtypes: float64(1), int64(1), object(2)\n",
      "memory usage: 31.2+ KB\n"
     ]
    }
   ],
   "source": [
    "train_df.info()"
   ]
  },
  {
   "cell_type": "code",
   "execution_count": 9,
   "metadata": {},
   "outputs": [
    {
     "name": "stdout",
     "output_type": "stream",
     "text": [
      "<class 'pandas.core.frame.DataFrame'>\n",
      "Int64Index: 200 entries, 801 to 1000\n",
      "Data columns (total 4 columns):\n",
      "ENGINE_LOAD     200 non-null object\n",
      "ENGINE_RPM      200 non-null int64\n",
      "SPEED           200 non-null float64\n",
      "THROTTLE_POS    200 non-null object\n",
      "dtypes: float64(1), int64(1), object(2)\n",
      "memory usage: 7.8+ KB\n"
     ]
    }
   ],
   "source": [
    "test_df.info()"
   ]
  },
  {
   "cell_type": "code",
   "execution_count": 10,
   "metadata": {},
   "outputs": [
    {
     "data": {
      "text/plain": [
       "ENGINE_LOAD     False\n",
       "ENGINE_RPM      False\n",
       "SPEED           False\n",
       "THROTTLE_POS    False\n",
       "dtype: bool"
      ]
     },
     "execution_count": 10,
     "metadata": {},
     "output_type": "execute_result"
    }
   ],
   "source": [
    "pd.isnull(train_df).sum() > 0"
   ]
  },
  {
   "cell_type": "code",
   "execution_count": 11,
   "metadata": {},
   "outputs": [
    {
     "data": {
      "text/plain": [
       "ENGINE_LOAD     False\n",
       "ENGINE_RPM      False\n",
       "SPEED           False\n",
       "THROTTLE_POS    False\n",
       "dtype: bool"
      ]
     },
     "execution_count": 11,
     "metadata": {},
     "output_type": "execute_result"
    }
   ],
   "source": [
    "pd.isnull(test_df).sum() > 0"
   ]
  },
  {
   "cell_type": "code",
   "execution_count": 12,
   "metadata": {},
   "outputs": [
    {
     "data": {
      "text/plain": [
       "ENGINE_LOAD     False\n",
       "ENGINE_RPM      False\n",
       "SPEED           False\n",
       "THROTTLE_POS    False\n",
       "dtype: bool"
      ]
     },
     "execution_count": 12,
     "metadata": {},
     "output_type": "execute_result"
    }
   ],
   "source": [
    "pd.isnull(df).sum() > 0"
   ]
  },
  {
   "cell_type": "markdown",
   "metadata": {},
   "source": [
    "# Data Munging - Working with Missing Values"
   ]
  },
  {
   "cell_type": "markdown",
   "metadata": {},
   "source": [
    "### SPEED FILLING"
   ]
  },
  {
   "cell_type": "code",
   "execution_count": 13,
   "metadata": {},
   "outputs": [
    {
     "data": {
      "text/html": [
       "<div>\n",
       "<style scoped>\n",
       "    .dataframe tbody tr th:only-of-type {\n",
       "        vertical-align: middle;\n",
       "    }\n",
       "\n",
       "    .dataframe tbody tr th {\n",
       "        vertical-align: top;\n",
       "    }\n",
       "\n",
       "    .dataframe thead th {\n",
       "        text-align: right;\n",
       "    }\n",
       "</style>\n",
       "<table border=\"1\" class=\"dataframe\">\n",
       "  <thead>\n",
       "    <tr style=\"text-align: right;\">\n",
       "      <th></th>\n",
       "      <th>ENGINE_LOAD</th>\n",
       "      <th>ENGINE_RPM</th>\n",
       "      <th>SPEED</th>\n",
       "      <th>THROTTLE_POS</th>\n",
       "    </tr>\n",
       "    <tr>\n",
       "      <th>ord</th>\n",
       "      <th></th>\n",
       "      <th></th>\n",
       "      <th></th>\n",
       "      <th></th>\n",
       "    </tr>\n",
       "  </thead>\n",
       "  <tbody>\n",
       "  </tbody>\n",
       "</table>\n",
       "</div>"
      ],
      "text/plain": [
       "Empty DataFrame\n",
       "Columns: [ENGINE_LOAD, ENGINE_RPM, SPEED, THROTTLE_POS]\n",
       "Index: []"
      ]
     },
     "execution_count": 13,
     "metadata": {},
     "output_type": "execute_result"
    }
   ],
   "source": [
    "df[df.SPEED.isnull()]"
   ]
  },
  {
   "cell_type": "code",
   "execution_count": 14,
   "metadata": {},
   "outputs": [
    {
     "data": {
      "text/html": [
       "<div>\n",
       "<style scoped>\n",
       "    .dataframe tbody tr th:only-of-type {\n",
       "        vertical-align: middle;\n",
       "    }\n",
       "\n",
       "    .dataframe tbody tr th {\n",
       "        vertical-align: top;\n",
       "    }\n",
       "\n",
       "    .dataframe thead th {\n",
       "        text-align: right;\n",
       "    }\n",
       "</style>\n",
       "<table border=\"1\" class=\"dataframe\">\n",
       "  <thead>\n",
       "    <tr style=\"text-align: right;\">\n",
       "      <th></th>\n",
       "      <th>ENGINE_LOAD</th>\n",
       "      <th>ENGINE_RPM</th>\n",
       "      <th>SPEED</th>\n",
       "      <th>THROTTLE_POS</th>\n",
       "    </tr>\n",
       "    <tr>\n",
       "      <th>ord</th>\n",
       "      <th></th>\n",
       "      <th></th>\n",
       "      <th></th>\n",
       "      <th></th>\n",
       "    </tr>\n",
       "  </thead>\n",
       "  <tbody>\n",
       "    <tr>\n",
       "      <th>1</th>\n",
       "      <td>43.10</td>\n",
       "      <td>816</td>\n",
       "      <td>32.0</td>\n",
       "      <td>21.20</td>\n",
       "    </tr>\n",
       "    <tr>\n",
       "      <th>2</th>\n",
       "      <td>42.00</td>\n",
       "      <td>807</td>\n",
       "      <td>0.0</td>\n",
       "      <td>21.60</td>\n",
       "    </tr>\n",
       "    <tr>\n",
       "      <th>3</th>\n",
       "      <td>50.60</td>\n",
       "      <td>1559</td>\n",
       "      <td>9.0</td>\n",
       "      <td>29.80</td>\n",
       "    </tr>\n",
       "    <tr>\n",
       "      <th>4</th>\n",
       "      <td>41.20</td>\n",
       "      <td>1692</td>\n",
       "      <td>10.0</td>\n",
       "      <td>29.00</td>\n",
       "    </tr>\n",
       "    <tr>\n",
       "      <th>5</th>\n",
       "      <td>55.70</td>\n",
       "      <td>863</td>\n",
       "      <td>11.0</td>\n",
       "      <td>25.90</td>\n",
       "    </tr>\n",
       "    <tr>\n",
       "      <th>6</th>\n",
       "      <td>69.80</td>\n",
       "      <td>955</td>\n",
       "      <td>8.0</td>\n",
       "      <td>27.50</td>\n",
       "    </tr>\n",
       "    <tr>\n",
       "      <th>7</th>\n",
       "      <td>26.30</td>\n",
       "      <td>777</td>\n",
       "      <td>9.0</td>\n",
       "      <td>29.80</td>\n",
       "    </tr>\n",
       "    <tr>\n",
       "      <th>8</th>\n",
       "      <td>47.10</td>\n",
       "      <td>1549</td>\n",
       "      <td>13.0</td>\n",
       "      <td>29.40</td>\n",
       "    </tr>\n",
       "    <tr>\n",
       "      <th>9</th>\n",
       "      <td>49.40</td>\n",
       "      <td>2106</td>\n",
       "      <td>12.0</td>\n",
       "      <td>31.80</td>\n",
       "    </tr>\n",
       "    <tr>\n",
       "      <th>10</th>\n",
       "      <td>62.40</td>\n",
       "      <td>1080</td>\n",
       "      <td>15.0</td>\n",
       "      <td>28.20</td>\n",
       "    </tr>\n",
       "  </tbody>\n",
       "</table>\n",
       "</div>"
      ],
      "text/plain": [
       "    ENGINE_LOAD  ENGINE_RPM  SPEED THROTTLE_POS\n",
       "ord                                            \n",
       "1         43.10         816   32.0        21.20\n",
       "2         42.00         807    0.0        21.60\n",
       "3         50.60        1559    9.0        29.80\n",
       "4         41.20        1692   10.0        29.00\n",
       "5         55.70         863   11.0        25.90\n",
       "6         69.80         955    8.0        27.50\n",
       "7         26.30         777    9.0        29.80\n",
       "8         47.10        1549   13.0        29.40\n",
       "9         49.40        2106   12.0        31.80\n",
       "10        62.40        1080   15.0        28.20"
      ]
     },
     "execution_count": 14,
     "metadata": {},
     "output_type": "execute_result"
    }
   ],
   "source": [
    "df.head(10)"
   ]
  },
  {
   "cell_type": "markdown",
   "metadata": {},
   "source": [
    "## FINDING ENGINE SPEED CHANGE RATE"
   ]
  },
  {
   "cell_type": "code",
   "execution_count": 15,
   "metadata": {},
   "outputs": [
    {
     "data": {
      "text/plain": [
       "dtype('float64')"
      ]
     },
     "execution_count": 15,
     "metadata": {},
     "output_type": "execute_result"
    }
   ],
   "source": [
    "df.SPEED.dtype"
   ]
  },
  {
   "cell_type": "code",
   "execution_count": 16,
   "metadata": {},
   "outputs": [
    {
     "name": "stdout",
     "output_type": "stream",
     "text": [
      "<class 'pandas.core.frame.DataFrame'>\n",
      "Int64Index: 1000 entries, 1 to 1000\n",
      "Data columns (total 4 columns):\n",
      "ENGINE_LOAD     1000 non-null object\n",
      "ENGINE_RPM      1000 non-null int64\n",
      "SPEED           1000 non-null float64\n",
      "THROTTLE_POS    1000 non-null object\n",
      "dtypes: float64(1), int64(1), object(2)\n",
      "memory usage: 39.1+ KB\n"
     ]
    }
   ],
   "source": [
    "df.info()"
   ]
  },
  {
   "cell_type": "code",
   "execution_count": 17,
   "metadata": {},
   "outputs": [],
   "source": [
    "df[\"EngineSpeedChangeRate\"] = df[\"ENGINE_RPM\"].diff().round(4)"
   ]
  },
  {
   "cell_type": "code",
   "execution_count": 18,
   "metadata": {
    "scrolled": true
   },
   "outputs": [
    {
     "data": {
      "text/html": [
       "<div>\n",
       "<style scoped>\n",
       "    .dataframe tbody tr th:only-of-type {\n",
       "        vertical-align: middle;\n",
       "    }\n",
       "\n",
       "    .dataframe tbody tr th {\n",
       "        vertical-align: top;\n",
       "    }\n",
       "\n",
       "    .dataframe thead th {\n",
       "        text-align: right;\n",
       "    }\n",
       "</style>\n",
       "<table border=\"1\" class=\"dataframe\">\n",
       "  <thead>\n",
       "    <tr style=\"text-align: right;\">\n",
       "      <th></th>\n",
       "      <th>ENGINE_LOAD</th>\n",
       "      <th>ENGINE_RPM</th>\n",
       "      <th>SPEED</th>\n",
       "      <th>THROTTLE_POS</th>\n",
       "      <th>EngineSpeedChangeRate</th>\n",
       "    </tr>\n",
       "    <tr>\n",
       "      <th>ord</th>\n",
       "      <th></th>\n",
       "      <th></th>\n",
       "      <th></th>\n",
       "      <th></th>\n",
       "      <th></th>\n",
       "    </tr>\n",
       "  </thead>\n",
       "  <tbody>\n",
       "    <tr>\n",
       "      <th>1</th>\n",
       "      <td>43.10</td>\n",
       "      <td>816</td>\n",
       "      <td>32.0</td>\n",
       "      <td>21.20</td>\n",
       "      <td>NaN</td>\n",
       "    </tr>\n",
       "    <tr>\n",
       "      <th>2</th>\n",
       "      <td>42.00</td>\n",
       "      <td>807</td>\n",
       "      <td>0.0</td>\n",
       "      <td>21.60</td>\n",
       "      <td>-9.0</td>\n",
       "    </tr>\n",
       "    <tr>\n",
       "      <th>3</th>\n",
       "      <td>50.60</td>\n",
       "      <td>1559</td>\n",
       "      <td>9.0</td>\n",
       "      <td>29.80</td>\n",
       "      <td>752.0</td>\n",
       "    </tr>\n",
       "    <tr>\n",
       "      <th>4</th>\n",
       "      <td>41.20</td>\n",
       "      <td>1692</td>\n",
       "      <td>10.0</td>\n",
       "      <td>29.00</td>\n",
       "      <td>133.0</td>\n",
       "    </tr>\n",
       "    <tr>\n",
       "      <th>5</th>\n",
       "      <td>55.70</td>\n",
       "      <td>863</td>\n",
       "      <td>11.0</td>\n",
       "      <td>25.90</td>\n",
       "      <td>-829.0</td>\n",
       "    </tr>\n",
       "    <tr>\n",
       "      <th>6</th>\n",
       "      <td>69.80</td>\n",
       "      <td>955</td>\n",
       "      <td>8.0</td>\n",
       "      <td>27.50</td>\n",
       "      <td>92.0</td>\n",
       "    </tr>\n",
       "    <tr>\n",
       "      <th>7</th>\n",
       "      <td>26.30</td>\n",
       "      <td>777</td>\n",
       "      <td>9.0</td>\n",
       "      <td>29.80</td>\n",
       "      <td>-178.0</td>\n",
       "    </tr>\n",
       "    <tr>\n",
       "      <th>8</th>\n",
       "      <td>47.10</td>\n",
       "      <td>1549</td>\n",
       "      <td>13.0</td>\n",
       "      <td>29.40</td>\n",
       "      <td>772.0</td>\n",
       "    </tr>\n",
       "    <tr>\n",
       "      <th>9</th>\n",
       "      <td>49.40</td>\n",
       "      <td>2106</td>\n",
       "      <td>12.0</td>\n",
       "      <td>31.80</td>\n",
       "      <td>557.0</td>\n",
       "    </tr>\n",
       "    <tr>\n",
       "      <th>10</th>\n",
       "      <td>62.40</td>\n",
       "      <td>1080</td>\n",
       "      <td>15.0</td>\n",
       "      <td>28.20</td>\n",
       "      <td>-1026.0</td>\n",
       "    </tr>\n",
       "    <tr>\n",
       "      <th>11</th>\n",
       "      <td>61.20</td>\n",
       "      <td>1384</td>\n",
       "      <td>20.0</td>\n",
       "      <td>30.20</td>\n",
       "      <td>304.0</td>\n",
       "    </tr>\n",
       "    <tr>\n",
       "      <th>12</th>\n",
       "      <td>56.50</td>\n",
       "      <td>1727</td>\n",
       "      <td>18.0</td>\n",
       "      <td>31.00</td>\n",
       "      <td>343.0</td>\n",
       "    </tr>\n",
       "    <tr>\n",
       "      <th>13</th>\n",
       "      <td>61.20</td>\n",
       "      <td>934</td>\n",
       "      <td>20.0</td>\n",
       "      <td>27.10</td>\n",
       "      <td>-793.0</td>\n",
       "    </tr>\n",
       "    <tr>\n",
       "      <th>14</th>\n",
       "      <td>63.50</td>\n",
       "      <td>1040</td>\n",
       "      <td>23.0</td>\n",
       "      <td>28.20</td>\n",
       "      <td>106.0</td>\n",
       "    </tr>\n",
       "    <tr>\n",
       "      <th>15</th>\n",
       "      <td>57.30</td>\n",
       "      <td>1204</td>\n",
       "      <td>28.0</td>\n",
       "      <td>28.60</td>\n",
       "      <td>164.0</td>\n",
       "    </tr>\n",
       "    <tr>\n",
       "      <th>16</th>\n",
       "      <td>54.10</td>\n",
       "      <td>1464</td>\n",
       "      <td>33.0</td>\n",
       "      <td>29.80</td>\n",
       "      <td>260.0</td>\n",
       "    </tr>\n",
       "    <tr>\n",
       "      <th>17</th>\n",
       "      <td>20.80</td>\n",
       "      <td>1084</td>\n",
       "      <td>32.0</td>\n",
       "      <td>19.20</td>\n",
       "      <td>-380.0</td>\n",
       "    </tr>\n",
       "    <tr>\n",
       "      <th>18</th>\n",
       "      <td>21.60</td>\n",
       "      <td>1098</td>\n",
       "      <td>34.0</td>\n",
       "      <td>19.20</td>\n",
       "      <td>14.0</td>\n",
       "    </tr>\n",
       "    <tr>\n",
       "      <th>19</th>\n",
       "      <td>38.00</td>\n",
       "      <td>1486</td>\n",
       "      <td>31.0</td>\n",
       "      <td>26.70</td>\n",
       "      <td>388.0</td>\n",
       "    </tr>\n",
       "    <tr>\n",
       "      <th>20</th>\n",
       "      <td>36.90</td>\n",
       "      <td>1569</td>\n",
       "      <td>32.0</td>\n",
       "      <td>27.10</td>\n",
       "      <td>83.0</td>\n",
       "    </tr>\n",
       "  </tbody>\n",
       "</table>\n",
       "</div>"
      ],
      "text/plain": [
       "    ENGINE_LOAD  ENGINE_RPM  SPEED THROTTLE_POS  EngineSpeedChangeRate\n",
       "ord                                                                   \n",
       "1         43.10         816   32.0        21.20                    NaN\n",
       "2         42.00         807    0.0        21.60                   -9.0\n",
       "3         50.60        1559    9.0        29.80                  752.0\n",
       "4         41.20        1692   10.0        29.00                  133.0\n",
       "5         55.70         863   11.0        25.90                 -829.0\n",
       "6         69.80         955    8.0        27.50                   92.0\n",
       "7         26.30         777    9.0        29.80                 -178.0\n",
       "8         47.10        1549   13.0        29.40                  772.0\n",
       "9         49.40        2106   12.0        31.80                  557.0\n",
       "10        62.40        1080   15.0        28.20                -1026.0\n",
       "11        61.20        1384   20.0        30.20                  304.0\n",
       "12        56.50        1727   18.0        31.00                  343.0\n",
       "13        61.20         934   20.0        27.10                 -793.0\n",
       "14        63.50        1040   23.0        28.20                  106.0\n",
       "15        57.30        1204   28.0        28.60                  164.0\n",
       "16        54.10        1464   33.0        29.80                  260.0\n",
       "17        20.80        1084   32.0        19.20                 -380.0\n",
       "18        21.60        1098   34.0        19.20                   14.0\n",
       "19        38.00        1486   31.0        26.70                  388.0\n",
       "20        36.90        1569   32.0        27.10                   83.0"
      ]
     },
     "execution_count": 18,
     "metadata": {},
     "output_type": "execute_result"
    }
   ],
   "source": [
    "df.head(20)"
   ]
  },
  {
   "cell_type": "code",
   "execution_count": 19,
   "metadata": {},
   "outputs": [],
   "source": [
    "df['EngineSpeedChangeRate'] = df['EngineSpeedChangeRate'].shift(-1)"
   ]
  },
  {
   "cell_type": "code",
   "execution_count": 20,
   "metadata": {
    "scrolled": true
   },
   "outputs": [
    {
     "data": {
      "text/html": [
       "<div>\n",
       "<style scoped>\n",
       "    .dataframe tbody tr th:only-of-type {\n",
       "        vertical-align: middle;\n",
       "    }\n",
       "\n",
       "    .dataframe tbody tr th {\n",
       "        vertical-align: top;\n",
       "    }\n",
       "\n",
       "    .dataframe thead th {\n",
       "        text-align: right;\n",
       "    }\n",
       "</style>\n",
       "<table border=\"1\" class=\"dataframe\">\n",
       "  <thead>\n",
       "    <tr style=\"text-align: right;\">\n",
       "      <th></th>\n",
       "      <th>ENGINE_LOAD</th>\n",
       "      <th>ENGINE_RPM</th>\n",
       "      <th>SPEED</th>\n",
       "      <th>THROTTLE_POS</th>\n",
       "      <th>EngineSpeedChangeRate</th>\n",
       "    </tr>\n",
       "    <tr>\n",
       "      <th>ord</th>\n",
       "      <th></th>\n",
       "      <th></th>\n",
       "      <th></th>\n",
       "      <th></th>\n",
       "      <th></th>\n",
       "    </tr>\n",
       "  </thead>\n",
       "  <tbody>\n",
       "    <tr>\n",
       "      <th>1</th>\n",
       "      <td>43.10</td>\n",
       "      <td>816</td>\n",
       "      <td>32.0</td>\n",
       "      <td>21.20</td>\n",
       "      <td>-9.0</td>\n",
       "    </tr>\n",
       "    <tr>\n",
       "      <th>2</th>\n",
       "      <td>42.00</td>\n",
       "      <td>807</td>\n",
       "      <td>0.0</td>\n",
       "      <td>21.60</td>\n",
       "      <td>752.0</td>\n",
       "    </tr>\n",
       "    <tr>\n",
       "      <th>3</th>\n",
       "      <td>50.60</td>\n",
       "      <td>1559</td>\n",
       "      <td>9.0</td>\n",
       "      <td>29.80</td>\n",
       "      <td>133.0</td>\n",
       "    </tr>\n",
       "    <tr>\n",
       "      <th>4</th>\n",
       "      <td>41.20</td>\n",
       "      <td>1692</td>\n",
       "      <td>10.0</td>\n",
       "      <td>29.00</td>\n",
       "      <td>-829.0</td>\n",
       "    </tr>\n",
       "    <tr>\n",
       "      <th>5</th>\n",
       "      <td>55.70</td>\n",
       "      <td>863</td>\n",
       "      <td>11.0</td>\n",
       "      <td>25.90</td>\n",
       "      <td>92.0</td>\n",
       "    </tr>\n",
       "    <tr>\n",
       "      <th>6</th>\n",
       "      <td>69.80</td>\n",
       "      <td>955</td>\n",
       "      <td>8.0</td>\n",
       "      <td>27.50</td>\n",
       "      <td>-178.0</td>\n",
       "    </tr>\n",
       "    <tr>\n",
       "      <th>7</th>\n",
       "      <td>26.30</td>\n",
       "      <td>777</td>\n",
       "      <td>9.0</td>\n",
       "      <td>29.80</td>\n",
       "      <td>772.0</td>\n",
       "    </tr>\n",
       "    <tr>\n",
       "      <th>8</th>\n",
       "      <td>47.10</td>\n",
       "      <td>1549</td>\n",
       "      <td>13.0</td>\n",
       "      <td>29.40</td>\n",
       "      <td>557.0</td>\n",
       "    </tr>\n",
       "    <tr>\n",
       "      <th>9</th>\n",
       "      <td>49.40</td>\n",
       "      <td>2106</td>\n",
       "      <td>12.0</td>\n",
       "      <td>31.80</td>\n",
       "      <td>-1026.0</td>\n",
       "    </tr>\n",
       "    <tr>\n",
       "      <th>10</th>\n",
       "      <td>62.40</td>\n",
       "      <td>1080</td>\n",
       "      <td>15.0</td>\n",
       "      <td>28.20</td>\n",
       "      <td>304.0</td>\n",
       "    </tr>\n",
       "  </tbody>\n",
       "</table>\n",
       "</div>"
      ],
      "text/plain": [
       "    ENGINE_LOAD  ENGINE_RPM  SPEED THROTTLE_POS  EngineSpeedChangeRate\n",
       "ord                                                                   \n",
       "1         43.10         816   32.0        21.20                   -9.0\n",
       "2         42.00         807    0.0        21.60                  752.0\n",
       "3         50.60        1559    9.0        29.80                  133.0\n",
       "4         41.20        1692   10.0        29.00                 -829.0\n",
       "5         55.70         863   11.0        25.90                   92.0\n",
       "6         69.80         955    8.0        27.50                 -178.0\n",
       "7         26.30         777    9.0        29.80                  772.0\n",
       "8         47.10        1549   13.0        29.40                  557.0\n",
       "9         49.40        2106   12.0        31.80                -1026.0\n",
       "10        62.40        1080   15.0        28.20                  304.0"
      ]
     },
     "execution_count": 20,
     "metadata": {},
     "output_type": "execute_result"
    }
   ],
   "source": [
    "df.head(10)"
   ]
  },
  {
   "cell_type": "code",
   "execution_count": 21,
   "metadata": {
    "scrolled": true
   },
   "outputs": [
    {
     "data": {
      "text/html": [
       "<div>\n",
       "<style scoped>\n",
       "    .dataframe tbody tr th:only-of-type {\n",
       "        vertical-align: middle;\n",
       "    }\n",
       "\n",
       "    .dataframe tbody tr th {\n",
       "        vertical-align: top;\n",
       "    }\n",
       "\n",
       "    .dataframe thead th {\n",
       "        text-align: right;\n",
       "    }\n",
       "</style>\n",
       "<table border=\"1\" class=\"dataframe\">\n",
       "  <thead>\n",
       "    <tr style=\"text-align: right;\">\n",
       "      <th></th>\n",
       "      <th>ENGINE_LOAD</th>\n",
       "      <th>ENGINE_RPM</th>\n",
       "      <th>SPEED</th>\n",
       "      <th>THROTTLE_POS</th>\n",
       "      <th>EngineSpeedChangeRate</th>\n",
       "    </tr>\n",
       "    <tr>\n",
       "      <th>ord</th>\n",
       "      <th></th>\n",
       "      <th></th>\n",
       "      <th></th>\n",
       "      <th></th>\n",
       "      <th></th>\n",
       "    </tr>\n",
       "  </thead>\n",
       "  <tbody>\n",
       "    <tr>\n",
       "      <th>991</th>\n",
       "      <td>100.00</td>\n",
       "      <td>1384</td>\n",
       "      <td>54.0</td>\n",
       "      <td>36.10</td>\n",
       "      <td>91.0</td>\n",
       "    </tr>\n",
       "    <tr>\n",
       "      <th>992</th>\n",
       "      <td>72.50</td>\n",
       "      <td>1475</td>\n",
       "      <td>55.0</td>\n",
       "      <td>32.20</td>\n",
       "      <td>55.0</td>\n",
       "    </tr>\n",
       "    <tr>\n",
       "      <th>993</th>\n",
       "      <td>50.20</td>\n",
       "      <td>1530</td>\n",
       "      <td>56.0</td>\n",
       "      <td>30.60</td>\n",
       "      <td>-54.0</td>\n",
       "    </tr>\n",
       "    <tr>\n",
       "      <th>994</th>\n",
       "      <td>15.30</td>\n",
       "      <td>1476</td>\n",
       "      <td>43.0</td>\n",
       "      <td>21.20</td>\n",
       "      <td>-302.0</td>\n",
       "    </tr>\n",
       "    <tr>\n",
       "      <th>995</th>\n",
       "      <td>21.60</td>\n",
       "      <td>1174</td>\n",
       "      <td>42.0</td>\n",
       "      <td>19.60</td>\n",
       "      <td>892.0</td>\n",
       "    </tr>\n",
       "    <tr>\n",
       "      <th>996</th>\n",
       "      <td>35.30</td>\n",
       "      <td>2066</td>\n",
       "      <td>52.0</td>\n",
       "      <td>35.30</td>\n",
       "      <td>-275.0</td>\n",
       "    </tr>\n",
       "    <tr>\n",
       "      <th>997</th>\n",
       "      <td>90.20</td>\n",
       "      <td>1791</td>\n",
       "      <td>56.0</td>\n",
       "      <td>35.30</td>\n",
       "      <td>-223.0</td>\n",
       "    </tr>\n",
       "    <tr>\n",
       "      <th>998</th>\n",
       "      <td>61.60</td>\n",
       "      <td>1568</td>\n",
       "      <td>57.0</td>\n",
       "      <td>31.00</td>\n",
       "      <td>3.0</td>\n",
       "    </tr>\n",
       "    <tr>\n",
       "      <th>999</th>\n",
       "      <td>61.60</td>\n",
       "      <td>1571</td>\n",
       "      <td>57.0</td>\n",
       "      <td>31.00</td>\n",
       "      <td>-14.0</td>\n",
       "    </tr>\n",
       "    <tr>\n",
       "      <th>1000</th>\n",
       "      <td>65.50</td>\n",
       "      <td>1557</td>\n",
       "      <td>55.0</td>\n",
       "      <td>31.40</td>\n",
       "      <td>NaN</td>\n",
       "    </tr>\n",
       "  </tbody>\n",
       "</table>\n",
       "</div>"
      ],
      "text/plain": [
       "     ENGINE_LOAD  ENGINE_RPM  SPEED THROTTLE_POS  EngineSpeedChangeRate\n",
       "ord                                                                    \n",
       "991       100.00        1384   54.0        36.10                   91.0\n",
       "992        72.50        1475   55.0        32.20                   55.0\n",
       "993        50.20        1530   56.0        30.60                  -54.0\n",
       "994        15.30        1476   43.0        21.20                 -302.0\n",
       "995        21.60        1174   42.0        19.60                  892.0\n",
       "996        35.30        2066   52.0        35.30                 -275.0\n",
       "997        90.20        1791   56.0        35.30                 -223.0\n",
       "998        61.60        1568   57.0        31.00                    3.0\n",
       "999        61.60        1571   57.0        31.00                  -14.0\n",
       "1000       65.50        1557   55.0        31.40                    NaN"
      ]
     },
     "execution_count": 21,
     "metadata": {},
     "output_type": "execute_result"
    }
   ],
   "source": [
    "df.tail(10)"
   ]
  },
  {
   "cell_type": "code",
   "execution_count": 22,
   "metadata": {},
   "outputs": [],
   "source": [
    "df.EngineSpeedChangeRate.fillna('1557', inplace= True)"
   ]
  },
  {
   "cell_type": "markdown",
   "metadata": {},
   "source": [
    "## FINDING SPEED CHANGE RATE"
   ]
  },
  {
   "cell_type": "code",
   "execution_count": 23,
   "metadata": {},
   "outputs": [],
   "source": [
    "#convert obj to float\n",
    "df[\"SPEED\"] = pd.to_numeric(df[\"SPEED\"])"
   ]
  },
  {
   "cell_type": "code",
   "execution_count": 24,
   "metadata": {
    "scrolled": true
   },
   "outputs": [],
   "source": [
    "#convert float to int\n",
    "df[\"SPEED\"]=df[\"SPEED\"].astype(np.int64)"
   ]
  },
  {
   "cell_type": "code",
   "execution_count": 25,
   "metadata": {},
   "outputs": [
    {
     "name": "stdout",
     "output_type": "stream",
     "text": [
      "<class 'pandas.core.frame.DataFrame'>\n",
      "Int64Index: 1000 entries, 1 to 1000\n",
      "Data columns (total 5 columns):\n",
      "ENGINE_LOAD              1000 non-null object\n",
      "ENGINE_RPM               1000 non-null int64\n",
      "SPEED                    1000 non-null int64\n",
      "THROTTLE_POS             1000 non-null object\n",
      "EngineSpeedChangeRate    1000 non-null object\n",
      "dtypes: int64(2), object(3)\n",
      "memory usage: 46.9+ KB\n"
     ]
    }
   ],
   "source": [
    "df.info()"
   ]
  },
  {
   "cell_type": "code",
   "execution_count": 26,
   "metadata": {},
   "outputs": [],
   "source": [
    "df[\"SpeedChangeRate\"] = df[\"SPEED\"].diff().round(4)"
   ]
  },
  {
   "cell_type": "code",
   "execution_count": 27,
   "metadata": {},
   "outputs": [],
   "source": [
    "df['SpeedChangeRate'] = df['SpeedChangeRate'].shift(-1)"
   ]
  },
  {
   "cell_type": "code",
   "execution_count": 28,
   "metadata": {},
   "outputs": [],
   "source": [
    "df.SpeedChangeRate.fillna('55', inplace= True)"
   ]
  },
  {
   "cell_type": "code",
   "execution_count": 29,
   "metadata": {},
   "outputs": [
    {
     "data": {
      "text/html": [
       "<div>\n",
       "<style scoped>\n",
       "    .dataframe tbody tr th:only-of-type {\n",
       "        vertical-align: middle;\n",
       "    }\n",
       "\n",
       "    .dataframe tbody tr th {\n",
       "        vertical-align: top;\n",
       "    }\n",
       "\n",
       "    .dataframe thead th {\n",
       "        text-align: right;\n",
       "    }\n",
       "</style>\n",
       "<table border=\"1\" class=\"dataframe\">\n",
       "  <thead>\n",
       "    <tr style=\"text-align: right;\">\n",
       "      <th></th>\n",
       "      <th>ENGINE_LOAD</th>\n",
       "      <th>ENGINE_RPM</th>\n",
       "      <th>SPEED</th>\n",
       "      <th>THROTTLE_POS</th>\n",
       "      <th>EngineSpeedChangeRate</th>\n",
       "      <th>SpeedChangeRate</th>\n",
       "    </tr>\n",
       "    <tr>\n",
       "      <th>ord</th>\n",
       "      <th></th>\n",
       "      <th></th>\n",
       "      <th></th>\n",
       "      <th></th>\n",
       "      <th></th>\n",
       "      <th></th>\n",
       "    </tr>\n",
       "  </thead>\n",
       "  <tbody>\n",
       "    <tr>\n",
       "      <th>1</th>\n",
       "      <td>43.10</td>\n",
       "      <td>816</td>\n",
       "      <td>32</td>\n",
       "      <td>21.20</td>\n",
       "      <td>-9</td>\n",
       "      <td>-32</td>\n",
       "    </tr>\n",
       "    <tr>\n",
       "      <th>2</th>\n",
       "      <td>42.00</td>\n",
       "      <td>807</td>\n",
       "      <td>0</td>\n",
       "      <td>21.60</td>\n",
       "      <td>752</td>\n",
       "      <td>9</td>\n",
       "    </tr>\n",
       "    <tr>\n",
       "      <th>3</th>\n",
       "      <td>50.60</td>\n",
       "      <td>1559</td>\n",
       "      <td>9</td>\n",
       "      <td>29.80</td>\n",
       "      <td>133</td>\n",
       "      <td>1</td>\n",
       "    </tr>\n",
       "    <tr>\n",
       "      <th>4</th>\n",
       "      <td>41.20</td>\n",
       "      <td>1692</td>\n",
       "      <td>10</td>\n",
       "      <td>29.00</td>\n",
       "      <td>-829</td>\n",
       "      <td>1</td>\n",
       "    </tr>\n",
       "    <tr>\n",
       "      <th>5</th>\n",
       "      <td>55.70</td>\n",
       "      <td>863</td>\n",
       "      <td>11</td>\n",
       "      <td>25.90</td>\n",
       "      <td>92</td>\n",
       "      <td>-3</td>\n",
       "    </tr>\n",
       "    <tr>\n",
       "      <th>6</th>\n",
       "      <td>69.80</td>\n",
       "      <td>955</td>\n",
       "      <td>8</td>\n",
       "      <td>27.50</td>\n",
       "      <td>-178</td>\n",
       "      <td>1</td>\n",
       "    </tr>\n",
       "    <tr>\n",
       "      <th>7</th>\n",
       "      <td>26.30</td>\n",
       "      <td>777</td>\n",
       "      <td>9</td>\n",
       "      <td>29.80</td>\n",
       "      <td>772</td>\n",
       "      <td>4</td>\n",
       "    </tr>\n",
       "    <tr>\n",
       "      <th>8</th>\n",
       "      <td>47.10</td>\n",
       "      <td>1549</td>\n",
       "      <td>13</td>\n",
       "      <td>29.40</td>\n",
       "      <td>557</td>\n",
       "      <td>-1</td>\n",
       "    </tr>\n",
       "    <tr>\n",
       "      <th>9</th>\n",
       "      <td>49.40</td>\n",
       "      <td>2106</td>\n",
       "      <td>12</td>\n",
       "      <td>31.80</td>\n",
       "      <td>-1026</td>\n",
       "      <td>3</td>\n",
       "    </tr>\n",
       "    <tr>\n",
       "      <th>10</th>\n",
       "      <td>62.40</td>\n",
       "      <td>1080</td>\n",
       "      <td>15</td>\n",
       "      <td>28.20</td>\n",
       "      <td>304</td>\n",
       "      <td>5</td>\n",
       "    </tr>\n",
       "  </tbody>\n",
       "</table>\n",
       "</div>"
      ],
      "text/plain": [
       "    ENGINE_LOAD  ENGINE_RPM  SPEED THROTTLE_POS EngineSpeedChangeRate  \\\n",
       "ord                                                                     \n",
       "1         43.10         816     32        21.20                    -9   \n",
       "2         42.00         807      0        21.60                   752   \n",
       "3         50.60        1559      9        29.80                   133   \n",
       "4         41.20        1692     10        29.00                  -829   \n",
       "5         55.70         863     11        25.90                    92   \n",
       "6         69.80         955      8        27.50                  -178   \n",
       "7         26.30         777      9        29.80                   772   \n",
       "8         47.10        1549     13        29.40                   557   \n",
       "9         49.40        2106     12        31.80                 -1026   \n",
       "10        62.40        1080     15        28.20                   304   \n",
       "\n",
       "    SpeedChangeRate  \n",
       "ord                  \n",
       "1               -32  \n",
       "2                 9  \n",
       "3                 1  \n",
       "4                 1  \n",
       "5                -3  \n",
       "6                 1  \n",
       "7                 4  \n",
       "8                -1  \n",
       "9                 3  \n",
       "10                5  "
      ]
     },
     "execution_count": 29,
     "metadata": {},
     "output_type": "execute_result"
    }
   ],
   "source": [
    "df.head(10)"
   ]
  },
  {
   "cell_type": "code",
   "execution_count": 30,
   "metadata": {},
   "outputs": [
    {
     "data": {
      "text/html": [
       "<div>\n",
       "<style scoped>\n",
       "    .dataframe tbody tr th:only-of-type {\n",
       "        vertical-align: middle;\n",
       "    }\n",
       "\n",
       "    .dataframe tbody tr th {\n",
       "        vertical-align: top;\n",
       "    }\n",
       "\n",
       "    .dataframe thead th {\n",
       "        text-align: right;\n",
       "    }\n",
       "</style>\n",
       "<table border=\"1\" class=\"dataframe\">\n",
       "  <thead>\n",
       "    <tr style=\"text-align: right;\">\n",
       "      <th></th>\n",
       "      <th>ENGINE_LOAD</th>\n",
       "      <th>ENGINE_RPM</th>\n",
       "      <th>SPEED</th>\n",
       "      <th>THROTTLE_POS</th>\n",
       "      <th>EngineSpeedChangeRate</th>\n",
       "      <th>SpeedChangeRate</th>\n",
       "    </tr>\n",
       "    <tr>\n",
       "      <th>ord</th>\n",
       "      <th></th>\n",
       "      <th></th>\n",
       "      <th></th>\n",
       "      <th></th>\n",
       "      <th></th>\n",
       "      <th></th>\n",
       "    </tr>\n",
       "  </thead>\n",
       "  <tbody>\n",
       "    <tr>\n",
       "      <th>991</th>\n",
       "      <td>100.00</td>\n",
       "      <td>1384</td>\n",
       "      <td>54</td>\n",
       "      <td>36.10</td>\n",
       "      <td>91</td>\n",
       "      <td>1</td>\n",
       "    </tr>\n",
       "    <tr>\n",
       "      <th>992</th>\n",
       "      <td>72.50</td>\n",
       "      <td>1475</td>\n",
       "      <td>55</td>\n",
       "      <td>32.20</td>\n",
       "      <td>55</td>\n",
       "      <td>1</td>\n",
       "    </tr>\n",
       "    <tr>\n",
       "      <th>993</th>\n",
       "      <td>50.20</td>\n",
       "      <td>1530</td>\n",
       "      <td>56</td>\n",
       "      <td>30.60</td>\n",
       "      <td>-54</td>\n",
       "      <td>-13</td>\n",
       "    </tr>\n",
       "    <tr>\n",
       "      <th>994</th>\n",
       "      <td>15.30</td>\n",
       "      <td>1476</td>\n",
       "      <td>43</td>\n",
       "      <td>21.20</td>\n",
       "      <td>-302</td>\n",
       "      <td>-1</td>\n",
       "    </tr>\n",
       "    <tr>\n",
       "      <th>995</th>\n",
       "      <td>21.60</td>\n",
       "      <td>1174</td>\n",
       "      <td>42</td>\n",
       "      <td>19.60</td>\n",
       "      <td>892</td>\n",
       "      <td>10</td>\n",
       "    </tr>\n",
       "    <tr>\n",
       "      <th>996</th>\n",
       "      <td>35.30</td>\n",
       "      <td>2066</td>\n",
       "      <td>52</td>\n",
       "      <td>35.30</td>\n",
       "      <td>-275</td>\n",
       "      <td>4</td>\n",
       "    </tr>\n",
       "    <tr>\n",
       "      <th>997</th>\n",
       "      <td>90.20</td>\n",
       "      <td>1791</td>\n",
       "      <td>56</td>\n",
       "      <td>35.30</td>\n",
       "      <td>-223</td>\n",
       "      <td>1</td>\n",
       "    </tr>\n",
       "    <tr>\n",
       "      <th>998</th>\n",
       "      <td>61.60</td>\n",
       "      <td>1568</td>\n",
       "      <td>57</td>\n",
       "      <td>31.00</td>\n",
       "      <td>3</td>\n",
       "      <td>0</td>\n",
       "    </tr>\n",
       "    <tr>\n",
       "      <th>999</th>\n",
       "      <td>61.60</td>\n",
       "      <td>1571</td>\n",
       "      <td>57</td>\n",
       "      <td>31.00</td>\n",
       "      <td>-14</td>\n",
       "      <td>-2</td>\n",
       "    </tr>\n",
       "    <tr>\n",
       "      <th>1000</th>\n",
       "      <td>65.50</td>\n",
       "      <td>1557</td>\n",
       "      <td>55</td>\n",
       "      <td>31.40</td>\n",
       "      <td>1557</td>\n",
       "      <td>55</td>\n",
       "    </tr>\n",
       "  </tbody>\n",
       "</table>\n",
       "</div>"
      ],
      "text/plain": [
       "     ENGINE_LOAD  ENGINE_RPM  SPEED THROTTLE_POS EngineSpeedChangeRate  \\\n",
       "ord                                                                      \n",
       "991       100.00        1384     54        36.10                    91   \n",
       "992        72.50        1475     55        32.20                    55   \n",
       "993        50.20        1530     56        30.60                   -54   \n",
       "994        15.30        1476     43        21.20                  -302   \n",
       "995        21.60        1174     42        19.60                   892   \n",
       "996        35.30        2066     52        35.30                  -275   \n",
       "997        90.20        1791     56        35.30                  -223   \n",
       "998        61.60        1568     57        31.00                     3   \n",
       "999        61.60        1571     57        31.00                   -14   \n",
       "1000       65.50        1557     55        31.40                  1557   \n",
       "\n",
       "     SpeedChangeRate  \n",
       "ord                   \n",
       "991                1  \n",
       "992                1  \n",
       "993              -13  \n",
       "994               -1  \n",
       "995               10  \n",
       "996                4  \n",
       "997                1  \n",
       "998                0  \n",
       "999               -2  \n",
       "1000              55  "
      ]
     },
     "execution_count": 30,
     "metadata": {},
     "output_type": "execute_result"
    }
   ],
   "source": [
    "df.tail(10)"
   ]
  },
  {
   "cell_type": "markdown",
   "metadata": {},
   "source": [
    "### FINDING THROTTLE CHANGE RATE"
   ]
  },
  {
   "cell_type": "code",
   "execution_count": 31,
   "metadata": {},
   "outputs": [
    {
     "data": {
      "text/html": [
       "<div>\n",
       "<style scoped>\n",
       "    .dataframe tbody tr th:only-of-type {\n",
       "        vertical-align: middle;\n",
       "    }\n",
       "\n",
       "    .dataframe tbody tr th {\n",
       "        vertical-align: top;\n",
       "    }\n",
       "\n",
       "    .dataframe thead th {\n",
       "        text-align: right;\n",
       "    }\n",
       "</style>\n",
       "<table border=\"1\" class=\"dataframe\">\n",
       "  <thead>\n",
       "    <tr style=\"text-align: right;\">\n",
       "      <th></th>\n",
       "      <th>ENGINE_LOAD</th>\n",
       "      <th>ENGINE_RPM</th>\n",
       "      <th>SPEED</th>\n",
       "      <th>THROTTLE_POS</th>\n",
       "      <th>EngineSpeedChangeRate</th>\n",
       "      <th>SpeedChangeRate</th>\n",
       "    </tr>\n",
       "    <tr>\n",
       "      <th>ord</th>\n",
       "      <th></th>\n",
       "      <th></th>\n",
       "      <th></th>\n",
       "      <th></th>\n",
       "      <th></th>\n",
       "      <th></th>\n",
       "    </tr>\n",
       "  </thead>\n",
       "  <tbody>\n",
       "  </tbody>\n",
       "</table>\n",
       "</div>"
      ],
      "text/plain": [
       "Empty DataFrame\n",
       "Columns: [ENGINE_LOAD, ENGINE_RPM, SPEED, THROTTLE_POS, EngineSpeedChangeRate, SpeedChangeRate]\n",
       "Index: []"
      ]
     },
     "execution_count": 31,
     "metadata": {},
     "output_type": "execute_result"
    }
   ],
   "source": [
    "#THROTTLE FILLING NAN\n",
    "df[df.THROTTLE_POS.isnull()]"
   ]
  },
  {
   "cell_type": "code",
   "execution_count": 32,
   "metadata": {
    "scrolled": true
   },
   "outputs": [],
   "source": [
    "#df.THROTTLE_POS.value_counts()"
   ]
  },
  {
   "cell_type": "code",
   "execution_count": 33,
   "metadata": {},
   "outputs": [],
   "source": [
    "#median_ect = df['THROTTLE_POS'].median()\n",
    "#print (median_ect)"
   ]
  },
  {
   "cell_type": "code",
   "execution_count": 34,
   "metadata": {},
   "outputs": [],
   "source": [
    "#df.THROTTLE_POS.fillna('25.1', inplace= True)"
   ]
  },
  {
   "cell_type": "code",
   "execution_count": 35,
   "metadata": {},
   "outputs": [],
   "source": [
    "#convert obj to float\n",
    "df[\"THROTTLE_POS\"] = pd.to_numeric(df[\"THROTTLE_POS\"],downcast='float')\n"
   ]
  },
  {
   "cell_type": "code",
   "execution_count": 36,
   "metadata": {},
   "outputs": [],
   "source": [
    "df[\"ThrottleChangeRate\"] = df[\"THROTTLE_POS\"].diff().round(4)"
   ]
  },
  {
   "cell_type": "code",
   "execution_count": 37,
   "metadata": {},
   "outputs": [],
   "source": [
    "df['ThrottleChangeRate'] = df['ThrottleChangeRate'].shift(-1)"
   ]
  },
  {
   "cell_type": "code",
   "execution_count": 38,
   "metadata": {},
   "outputs": [],
   "source": [
    "df.ThrottleChangeRate.fillna('31.4', inplace= True)"
   ]
  },
  {
   "cell_type": "code",
   "execution_count": 39,
   "metadata": {},
   "outputs": [
    {
     "data": {
      "text/html": [
       "<div>\n",
       "<style scoped>\n",
       "    .dataframe tbody tr th:only-of-type {\n",
       "        vertical-align: middle;\n",
       "    }\n",
       "\n",
       "    .dataframe tbody tr th {\n",
       "        vertical-align: top;\n",
       "    }\n",
       "\n",
       "    .dataframe thead th {\n",
       "        text-align: right;\n",
       "    }\n",
       "</style>\n",
       "<table border=\"1\" class=\"dataframe\">\n",
       "  <thead>\n",
       "    <tr style=\"text-align: right;\">\n",
       "      <th></th>\n",
       "      <th>ENGINE_LOAD</th>\n",
       "      <th>ENGINE_RPM</th>\n",
       "      <th>SPEED</th>\n",
       "      <th>THROTTLE_POS</th>\n",
       "      <th>EngineSpeedChangeRate</th>\n",
       "      <th>SpeedChangeRate</th>\n",
       "      <th>ThrottleChangeRate</th>\n",
       "    </tr>\n",
       "    <tr>\n",
       "      <th>ord</th>\n",
       "      <th></th>\n",
       "      <th></th>\n",
       "      <th></th>\n",
       "      <th></th>\n",
       "      <th></th>\n",
       "      <th></th>\n",
       "      <th></th>\n",
       "    </tr>\n",
       "  </thead>\n",
       "  <tbody>\n",
       "    <tr>\n",
       "      <th>991</th>\n",
       "      <td>100.00</td>\n",
       "      <td>1384</td>\n",
       "      <td>54</td>\n",
       "      <td>36.099998</td>\n",
       "      <td>91</td>\n",
       "      <td>1</td>\n",
       "      <td>-3.9</td>\n",
       "    </tr>\n",
       "    <tr>\n",
       "      <th>992</th>\n",
       "      <td>72.50</td>\n",
       "      <td>1475</td>\n",
       "      <td>55</td>\n",
       "      <td>32.200001</td>\n",
       "      <td>55</td>\n",
       "      <td>1</td>\n",
       "      <td>-1.6</td>\n",
       "    </tr>\n",
       "    <tr>\n",
       "      <th>993</th>\n",
       "      <td>50.20</td>\n",
       "      <td>1530</td>\n",
       "      <td>56</td>\n",
       "      <td>30.600000</td>\n",
       "      <td>-54</td>\n",
       "      <td>-13</td>\n",
       "      <td>-9.4</td>\n",
       "    </tr>\n",
       "    <tr>\n",
       "      <th>994</th>\n",
       "      <td>15.30</td>\n",
       "      <td>1476</td>\n",
       "      <td>43</td>\n",
       "      <td>21.200001</td>\n",
       "      <td>-302</td>\n",
       "      <td>-1</td>\n",
       "      <td>-1.6</td>\n",
       "    </tr>\n",
       "    <tr>\n",
       "      <th>995</th>\n",
       "      <td>21.60</td>\n",
       "      <td>1174</td>\n",
       "      <td>42</td>\n",
       "      <td>19.600000</td>\n",
       "      <td>892</td>\n",
       "      <td>10</td>\n",
       "      <td>15.7</td>\n",
       "    </tr>\n",
       "    <tr>\n",
       "      <th>996</th>\n",
       "      <td>35.30</td>\n",
       "      <td>2066</td>\n",
       "      <td>52</td>\n",
       "      <td>35.299999</td>\n",
       "      <td>-275</td>\n",
       "      <td>4</td>\n",
       "      <td>0</td>\n",
       "    </tr>\n",
       "    <tr>\n",
       "      <th>997</th>\n",
       "      <td>90.20</td>\n",
       "      <td>1791</td>\n",
       "      <td>56</td>\n",
       "      <td>35.299999</td>\n",
       "      <td>-223</td>\n",
       "      <td>1</td>\n",
       "      <td>-4.3</td>\n",
       "    </tr>\n",
       "    <tr>\n",
       "      <th>998</th>\n",
       "      <td>61.60</td>\n",
       "      <td>1568</td>\n",
       "      <td>57</td>\n",
       "      <td>31.000000</td>\n",
       "      <td>3</td>\n",
       "      <td>0</td>\n",
       "      <td>0</td>\n",
       "    </tr>\n",
       "    <tr>\n",
       "      <th>999</th>\n",
       "      <td>61.60</td>\n",
       "      <td>1571</td>\n",
       "      <td>57</td>\n",
       "      <td>31.000000</td>\n",
       "      <td>-14</td>\n",
       "      <td>-2</td>\n",
       "      <td>0.4</td>\n",
       "    </tr>\n",
       "    <tr>\n",
       "      <th>1000</th>\n",
       "      <td>65.50</td>\n",
       "      <td>1557</td>\n",
       "      <td>55</td>\n",
       "      <td>31.400000</td>\n",
       "      <td>1557</td>\n",
       "      <td>55</td>\n",
       "      <td>31.4</td>\n",
       "    </tr>\n",
       "  </tbody>\n",
       "</table>\n",
       "</div>"
      ],
      "text/plain": [
       "     ENGINE_LOAD  ENGINE_RPM  SPEED  THROTTLE_POS EngineSpeedChangeRate  \\\n",
       "ord                                                                       \n",
       "991       100.00        1384     54     36.099998                    91   \n",
       "992        72.50        1475     55     32.200001                    55   \n",
       "993        50.20        1530     56     30.600000                   -54   \n",
       "994        15.30        1476     43     21.200001                  -302   \n",
       "995        21.60        1174     42     19.600000                   892   \n",
       "996        35.30        2066     52     35.299999                  -275   \n",
       "997        90.20        1791     56     35.299999                  -223   \n",
       "998        61.60        1568     57     31.000000                     3   \n",
       "999        61.60        1571     57     31.000000                   -14   \n",
       "1000       65.50        1557     55     31.400000                  1557   \n",
       "\n",
       "     SpeedChangeRate ThrottleChangeRate  \n",
       "ord                                      \n",
       "991                1               -3.9  \n",
       "992                1               -1.6  \n",
       "993              -13               -9.4  \n",
       "994               -1               -1.6  \n",
       "995               10               15.7  \n",
       "996                4                  0  \n",
       "997                1               -4.3  \n",
       "998                0                  0  \n",
       "999               -2                0.4  \n",
       "1000              55               31.4  "
      ]
     },
     "execution_count": 39,
     "metadata": {},
     "output_type": "execute_result"
    }
   ],
   "source": [
    "df.tail(10)"
   ]
  },
  {
   "cell_type": "code",
   "execution_count": 40,
   "metadata": {},
   "outputs": [
    {
     "name": "stdout",
     "output_type": "stream",
     "text": [
      "<class 'pandas.core.frame.DataFrame'>\n",
      "Int64Index: 1000 entries, 1 to 1000\n",
      "Data columns (total 7 columns):\n",
      "ENGINE_LOAD              1000 non-null object\n",
      "ENGINE_RPM               1000 non-null int64\n",
      "SPEED                    1000 non-null int64\n",
      "THROTTLE_POS             1000 non-null float32\n",
      "EngineSpeedChangeRate    1000 non-null object\n",
      "SpeedChangeRate          1000 non-null object\n",
      "ThrottleChangeRate       1000 non-null object\n",
      "dtypes: float32(1), int64(2), object(4)\n",
      "memory usage: 58.6+ KB\n"
     ]
    }
   ],
   "source": [
    "df.info()"
   ]
  },
  {
   "cell_type": "markdown",
   "metadata": {},
   "source": [
    "### FILLING ENGINE LOAD"
   ]
  },
  {
   "cell_type": "code",
   "execution_count": 41,
   "metadata": {},
   "outputs": [
    {
     "data": {
      "text/html": [
       "<div>\n",
       "<style scoped>\n",
       "    .dataframe tbody tr th:only-of-type {\n",
       "        vertical-align: middle;\n",
       "    }\n",
       "\n",
       "    .dataframe tbody tr th {\n",
       "        vertical-align: top;\n",
       "    }\n",
       "\n",
       "    .dataframe thead th {\n",
       "        text-align: right;\n",
       "    }\n",
       "</style>\n",
       "<table border=\"1\" class=\"dataframe\">\n",
       "  <thead>\n",
       "    <tr style=\"text-align: right;\">\n",
       "      <th></th>\n",
       "      <th>ENGINE_LOAD</th>\n",
       "      <th>ENGINE_RPM</th>\n",
       "      <th>SPEED</th>\n",
       "      <th>THROTTLE_POS</th>\n",
       "      <th>EngineSpeedChangeRate</th>\n",
       "      <th>SpeedChangeRate</th>\n",
       "      <th>ThrottleChangeRate</th>\n",
       "    </tr>\n",
       "    <tr>\n",
       "      <th>ord</th>\n",
       "      <th></th>\n",
       "      <th></th>\n",
       "      <th></th>\n",
       "      <th></th>\n",
       "      <th></th>\n",
       "      <th></th>\n",
       "      <th></th>\n",
       "    </tr>\n",
       "  </thead>\n",
       "  <tbody>\n",
       "  </tbody>\n",
       "</table>\n",
       "</div>"
      ],
      "text/plain": [
       "Empty DataFrame\n",
       "Columns: [ENGINE_LOAD, ENGINE_RPM, SPEED, THROTTLE_POS, EngineSpeedChangeRate, SpeedChangeRate, ThrottleChangeRate]\n",
       "Index: []"
      ]
     },
     "execution_count": 41,
     "metadata": {},
     "output_type": "execute_result"
    }
   ],
   "source": [
    "df[df.ENGINE_LOAD.isnull()]"
   ]
  },
  {
   "cell_type": "code",
   "execution_count": 42,
   "metadata": {},
   "outputs": [
    {
     "name": "stdout",
     "output_type": "stream",
     "text": [
      "<class 'pandas.core.frame.DataFrame'>\n",
      "Int64Index: 1000 entries, 1 to 1000\n",
      "Data columns (total 7 columns):\n",
      "ENGINE_LOAD              1000 non-null object\n",
      "ENGINE_RPM               1000 non-null int64\n",
      "SPEED                    1000 non-null int64\n",
      "THROTTLE_POS             1000 non-null float32\n",
      "EngineSpeedChangeRate    1000 non-null object\n",
      "SpeedChangeRate          1000 non-null object\n",
      "ThrottleChangeRate       1000 non-null object\n",
      "dtypes: float32(1), int64(2), object(4)\n",
      "memory usage: 58.6+ KB\n"
     ]
    }
   ],
   "source": [
    "df.info()"
   ]
  },
  {
   "cell_type": "code",
   "execution_count": 43,
   "metadata": {},
   "outputs": [],
   "source": [
    "#convert obj to float\n",
    "df[\"ENGINE_LOAD\"] = pd.to_numeric(df[\"ENGINE_LOAD\"],downcast='float').round(4)"
   ]
  },
  {
   "cell_type": "code",
   "execution_count": 44,
   "metadata": {},
   "outputs": [],
   "source": [
    "#convert obj to float\n",
    "df[\"ThrottleChangeRate\"] = pd.to_numeric(df[\"ThrottleChangeRate\"],downcast='float')"
   ]
  },
  {
   "cell_type": "code",
   "execution_count": 45,
   "metadata": {},
   "outputs": [],
   "source": [
    "#convert obj to float\n",
    "df[\"EngineSpeedChangeRate\"] = pd.to_numeric(df[\"EngineSpeedChangeRate\"])\n",
    "#convert float to int\n",
    "df[\"EngineSpeedChangeRate\"]=df[\"EngineSpeedChangeRate\"].astype(np.int64)"
   ]
  },
  {
   "cell_type": "code",
   "execution_count": 46,
   "metadata": {},
   "outputs": [],
   "source": [
    "#convert obj to float\n",
    "df[\"SpeedChangeRate\"] = pd.to_numeric(df[\"SpeedChangeRate\"])\n",
    "#convert float to int\n",
    "df[\"SpeedChangeRate\"]=df[\"SpeedChangeRate\"].astype(np.int64)"
   ]
  },
  {
   "cell_type": "code",
   "execution_count": 47,
   "metadata": {},
   "outputs": [
    {
     "name": "stdout",
     "output_type": "stream",
     "text": [
      "<class 'pandas.core.frame.DataFrame'>\n",
      "Int64Index: 1000 entries, 1 to 1000\n",
      "Data columns (total 7 columns):\n",
      "ENGINE_LOAD              1000 non-null float32\n",
      "ENGINE_RPM               1000 non-null int64\n",
      "SPEED                    1000 non-null int64\n",
      "THROTTLE_POS             1000 non-null float32\n",
      "EngineSpeedChangeRate    1000 non-null int64\n",
      "SpeedChangeRate          1000 non-null int64\n",
      "ThrottleChangeRate       1000 non-null float32\n",
      "dtypes: float32(3), int64(4)\n",
      "memory usage: 50.8 KB\n"
     ]
    }
   ],
   "source": [
    "df.info()"
   ]
  },
  {
   "cell_type": "markdown",
   "metadata": {},
   "source": [
    "## FINDING RELATIVE RATIO OF SPEED & ENGINE SPEED"
   ]
  },
  {
   "cell_type": "code",
   "execution_count": 48,
   "metadata": {},
   "outputs": [],
   "source": [
    "#Applying formula -  Rcz(t)= cs(t)/220   /   zs(t)/8000\n",
    "#Simplifying     -   Rcz(t)= 36.3636 * (cs(t)/zs(t))\n",
    "#dividing cs/zs\n",
    "df['RelRatioVSES'] = (df['SPEED']/df['ENGINE_RPM']).round(4)\n",
    "\n",
    "#multiply with 36.3636\n",
    "df['RelRatioVSES'] = (df['RelRatioVSES']*36.3636).round(4)\n",
    "#convert obj to float\n",
    "df[\"RelRatioVSES\"] = pd.to_numeric(df[\"RelRatioVSES\"],downcast='float')"
   ]
  },
  {
   "cell_type": "code",
   "execution_count": 49,
   "metadata": {},
   "outputs": [
    {
     "name": "stdout",
     "output_type": "stream",
     "text": [
      "<class 'pandas.core.frame.DataFrame'>\n",
      "Int64Index: 1000 entries, 1 to 1000\n",
      "Data columns (total 8 columns):\n",
      "ENGINE_LOAD              1000 non-null float32\n",
      "ENGINE_RPM               1000 non-null int64\n",
      "SPEED                    1000 non-null int64\n",
      "THROTTLE_POS             1000 non-null float32\n",
      "EngineSpeedChangeRate    1000 non-null int64\n",
      "SpeedChangeRate          1000 non-null int64\n",
      "ThrottleChangeRate       1000 non-null float32\n",
      "RelRatioVSES             1000 non-null float32\n",
      "dtypes: float32(4), int64(4)\n",
      "memory usage: 54.7 KB\n"
     ]
    }
   ],
   "source": [
    "df.info()"
   ]
  },
  {
   "cell_type": "markdown",
   "metadata": {},
   "source": [
    "## FINDING RELATIVE RATIO OF THROTTLE & ENGINE SPEED"
   ]
  },
  {
   "cell_type": "code",
   "execution_count": 50,
   "metadata": {},
   "outputs": [],
   "source": [
    "#Applying formula -  Rjz(t)= jq'(t)/max(jq'(t))   /   zs'(t)/max(zs'(t))\n",
    "#Simplifying jq'(t)/zs'(t)  *  max/max\n",
    "#find max(zs'(t))  -  convert obj to float\n",
    "df[\"EngineSpeedChangeRate\"] = pd.to_numeric(df[\"EngineSpeedChangeRate\"],downcast='float')\n",
    "x=df[\"EngineSpeedChangeRate\"].max()\n",
    "\n",
    "#find max(jq'(t))  -  convert obj to float\n",
    "df[\"ThrottleChangeRate\"] = pd.to_numeric(df[\"ThrottleChangeRate\"],downcast='float')\n",
    "y=df[\"ThrottleChangeRate\"].max()\n",
    "\n",
    "#max/max - x/y\n",
    "z=x/y\n",
    "\n",
    "#divide jq'  /  zs'\n",
    "df['RelRatioTPES'] = (df['ThrottleChangeRate']/df['EngineSpeedChangeRate']).round(4)\n",
    "\n",
    "#multiply with z\n",
    "df['RelRatioTPES'] = (df['RelRatioTPES']*z).round(4)\n",
    "\n",
    "#convert obj to float\n",
    "df[\"RelRatioTPES\"] = pd.to_numeric(df[\"RelRatioTPES\"],downcast='float')"
   ]
  },
  {
   "cell_type": "code",
   "execution_count": 51,
   "metadata": {},
   "outputs": [],
   "source": [
    "median_ect = df['RelRatioTPES'].median()\n",
    "\n",
    "df.RelRatioTPES.fillna(median_ect, inplace= True)"
   ]
  },
  {
   "cell_type": "code",
   "execution_count": 52,
   "metadata": {},
   "outputs": [
    {
     "name": "stdout",
     "output_type": "stream",
     "text": [
      "<class 'pandas.core.frame.DataFrame'>\n",
      "Int64Index: 1000 entries, 1 to 1000\n",
      "Data columns (total 9 columns):\n",
      "ENGINE_LOAD              1000 non-null float32\n",
      "ENGINE_RPM               1000 non-null int64\n",
      "SPEED                    1000 non-null int64\n",
      "THROTTLE_POS             1000 non-null float32\n",
      "EngineSpeedChangeRate    1000 non-null float32\n",
      "SpeedChangeRate          1000 non-null int64\n",
      "ThrottleChangeRate       1000 non-null float32\n",
      "RelRatioVSES             1000 non-null float32\n",
      "RelRatioTPES             1000 non-null float32\n",
      "dtypes: float32(6), int64(3)\n",
      "memory usage: 54.7 KB\n"
     ]
    }
   ],
   "source": [
    "df.info()"
   ]
  },
  {
   "cell_type": "markdown",
   "metadata": {},
   "source": [
    "# CREATING A NEW DATAFRAME "
   ]
  },
  {
   "cell_type": "code",
   "execution_count": 53,
   "metadata": {},
   "outputs": [],
   "source": [
    "df2 = df[['RelRatioVSES','RelRatioTPES','ENGINE_LOAD']]"
   ]
  },
  {
   "cell_type": "code",
   "execution_count": 54,
   "metadata": {},
   "outputs": [
    {
     "data": {
      "text/html": [
       "<div>\n",
       "<style scoped>\n",
       "    .dataframe tbody tr th:only-of-type {\n",
       "        vertical-align: middle;\n",
       "    }\n",
       "\n",
       "    .dataframe tbody tr th {\n",
       "        vertical-align: top;\n",
       "    }\n",
       "\n",
       "    .dataframe thead th {\n",
       "        text-align: right;\n",
       "    }\n",
       "</style>\n",
       "<table border=\"1\" class=\"dataframe\">\n",
       "  <thead>\n",
       "    <tr style=\"text-align: right;\">\n",
       "      <th></th>\n",
       "      <th>RelRatioVSES</th>\n",
       "      <th>RelRatioTPES</th>\n",
       "      <th>ENGINE_LOAD</th>\n",
       "    </tr>\n",
       "    <tr>\n",
       "      <th>ord</th>\n",
       "      <th></th>\n",
       "      <th></th>\n",
       "      <th></th>\n",
       "    </tr>\n",
       "  </thead>\n",
       "  <tbody>\n",
       "    <tr>\n",
       "      <th>1</th>\n",
       "      <td>1.4255</td>\n",
       "      <td>-2.0576</td>\n",
       "      <td>43.099998</td>\n",
       "    </tr>\n",
       "    <tr>\n",
       "      <th>2</th>\n",
       "      <td>0.0000</td>\n",
       "      <td>0.5051</td>\n",
       "      <td>42.000000</td>\n",
       "    </tr>\n",
       "    <tr>\n",
       "      <th>3</th>\n",
       "      <td>0.2109</td>\n",
       "      <td>-0.2780</td>\n",
       "      <td>50.599998</td>\n",
       "    </tr>\n",
       "    <tr>\n",
       "      <th>4</th>\n",
       "      <td>0.2145</td>\n",
       "      <td>0.1715</td>\n",
       "      <td>41.200001</td>\n",
       "    </tr>\n",
       "    <tr>\n",
       "      <th>5</th>\n",
       "      <td>0.4618</td>\n",
       "      <td>0.8063</td>\n",
       "      <td>55.700001</td>\n",
       "    </tr>\n",
       "    <tr>\n",
       "      <th>6</th>\n",
       "      <td>0.3055</td>\n",
       "      <td>-0.5978</td>\n",
       "      <td>69.800003</td>\n",
       "    </tr>\n",
       "    <tr>\n",
       "      <th>7</th>\n",
       "      <td>0.4218</td>\n",
       "      <td>-0.0232</td>\n",
       "      <td>26.299999</td>\n",
       "    </tr>\n",
       "    <tr>\n",
       "      <th>8</th>\n",
       "      <td>0.3055</td>\n",
       "      <td>0.1993</td>\n",
       "      <td>47.099998</td>\n",
       "    </tr>\n",
       "    <tr>\n",
       "      <th>9</th>\n",
       "      <td>0.2073</td>\n",
       "      <td>0.1622</td>\n",
       "      <td>49.400002</td>\n",
       "    </tr>\n",
       "    <tr>\n",
       "      <th>10</th>\n",
       "      <td>0.5055</td>\n",
       "      <td>0.3059</td>\n",
       "      <td>62.400002</td>\n",
       "    </tr>\n",
       "  </tbody>\n",
       "</table>\n",
       "</div>"
      ],
      "text/plain": [
       "     RelRatioVSES  RelRatioTPES  ENGINE_LOAD\n",
       "ord                                         \n",
       "1          1.4255       -2.0576    43.099998\n",
       "2          0.0000        0.5051    42.000000\n",
       "3          0.2109       -0.2780    50.599998\n",
       "4          0.2145        0.1715    41.200001\n",
       "5          0.4618        0.8063    55.700001\n",
       "6          0.3055       -0.5978    69.800003\n",
       "7          0.4218       -0.0232    26.299999\n",
       "8          0.3055        0.1993    47.099998\n",
       "9          0.2073        0.1622    49.400002\n",
       "10         0.5055        0.3059    62.400002"
      ]
     },
     "execution_count": 54,
     "metadata": {},
     "output_type": "execute_result"
    }
   ],
   "source": [
    "df2.head(10)"
   ]
  },
  {
   "cell_type": "markdown",
   "metadata": {},
   "source": [
    "### FINDING WHETHER MAINTENANCE NEEDED OR NOT"
   ]
  },
  {
   "cell_type": "code",
   "execution_count": 55,
   "metadata": {},
   "outputs": [
    {
     "name": "stdout",
     "output_type": "stream",
     "text": [
      "<class 'pandas.core.frame.DataFrame'>\n",
      "Int64Index: 1000 entries, 1 to 1000\n",
      "Data columns (total 3 columns):\n",
      "RelRatioVSES    1000 non-null float32\n",
      "RelRatioTPES    1000 non-null float32\n",
      "ENGINE_LOAD     1000 non-null float32\n",
      "dtypes: float32(3)\n",
      "memory usage: 19.5 KB\n"
     ]
    }
   ],
   "source": [
    "df2.info()\n"
   ]
  },
  {
   "cell_type": "code",
   "execution_count": 56,
   "metadata": {},
   "outputs": [],
   "source": [
    "#function to create a column MaintenanceReq\n",
    "def f(row):\n",
    "    global val\n",
    "    if row['RelRatioVSES'] >= 0.9 and row['RelRatioVSES'] <= 1.3 :\n",
    "        if row['RelRatioTPES'] >= 0.9 and row['RelRatioTPES'] <= 1.3 :\n",
    "            if row['ENGINE_LOAD'] >= 20 and row['ENGINE_LOAD'] <= 50 :\n",
    "                val = \"NO\"\n",
    "    else:\n",
    "         val = \"YES\"\n",
    "    return val\n",
    "#Creating column MaintenanceReq\n",
    "df2 = df2.assign(MaintenanceReq=df2.apply(f, axis=1))\n"
   ]
  },
  {
   "cell_type": "code",
   "execution_count": 57,
   "metadata": {},
   "outputs": [
    {
     "data": {
      "text/plain": [
       "YES    973\n",
       "NO      27\n",
       "Name: MaintenanceReq, dtype: int64"
      ]
     },
     "execution_count": 57,
     "metadata": {},
     "output_type": "execute_result"
    }
   ],
   "source": [
    "df2['MaintenanceReq'].value_counts()"
   ]
  },
  {
   "cell_type": "code",
   "execution_count": 58,
   "metadata": {},
   "outputs": [
    {
     "data": {
      "text/html": [
       "<div>\n",
       "<style scoped>\n",
       "    .dataframe tbody tr th:only-of-type {\n",
       "        vertical-align: middle;\n",
       "    }\n",
       "\n",
       "    .dataframe tbody tr th {\n",
       "        vertical-align: top;\n",
       "    }\n",
       "\n",
       "    .dataframe thead th {\n",
       "        text-align: right;\n",
       "    }\n",
       "</style>\n",
       "<table border=\"1\" class=\"dataframe\">\n",
       "  <thead>\n",
       "    <tr style=\"text-align: right;\">\n",
       "      <th></th>\n",
       "      <th>RelRatioVSES</th>\n",
       "      <th>RelRatioTPES</th>\n",
       "      <th>ENGINE_LOAD</th>\n",
       "      <th>MaintenanceReq</th>\n",
       "    </tr>\n",
       "    <tr>\n",
       "      <th>ord</th>\n",
       "      <th></th>\n",
       "      <th></th>\n",
       "      <th></th>\n",
       "      <th></th>\n",
       "    </tr>\n",
       "  </thead>\n",
       "  <tbody>\n",
       "    <tr>\n",
       "      <th>1</th>\n",
       "      <td>1.4255</td>\n",
       "      <td>-2.0576</td>\n",
       "      <td>43.099998</td>\n",
       "      <td>YES</td>\n",
       "    </tr>\n",
       "    <tr>\n",
       "      <th>2</th>\n",
       "      <td>0.0000</td>\n",
       "      <td>0.5051</td>\n",
       "      <td>42.000000</td>\n",
       "      <td>YES</td>\n",
       "    </tr>\n",
       "    <tr>\n",
       "      <th>3</th>\n",
       "      <td>0.2109</td>\n",
       "      <td>-0.2780</td>\n",
       "      <td>50.599998</td>\n",
       "      <td>YES</td>\n",
       "    </tr>\n",
       "    <tr>\n",
       "      <th>4</th>\n",
       "      <td>0.2145</td>\n",
       "      <td>0.1715</td>\n",
       "      <td>41.200001</td>\n",
       "      <td>YES</td>\n",
       "    </tr>\n",
       "    <tr>\n",
       "      <th>5</th>\n",
       "      <td>0.4618</td>\n",
       "      <td>0.8063</td>\n",
       "      <td>55.700001</td>\n",
       "      <td>YES</td>\n",
       "    </tr>\n",
       "    <tr>\n",
       "      <th>6</th>\n",
       "      <td>0.3055</td>\n",
       "      <td>-0.5978</td>\n",
       "      <td>69.800003</td>\n",
       "      <td>YES</td>\n",
       "    </tr>\n",
       "    <tr>\n",
       "      <th>7</th>\n",
       "      <td>0.4218</td>\n",
       "      <td>-0.0232</td>\n",
       "      <td>26.299999</td>\n",
       "      <td>YES</td>\n",
       "    </tr>\n",
       "    <tr>\n",
       "      <th>8</th>\n",
       "      <td>0.3055</td>\n",
       "      <td>0.1993</td>\n",
       "      <td>47.099998</td>\n",
       "      <td>YES</td>\n",
       "    </tr>\n",
       "    <tr>\n",
       "      <th>9</th>\n",
       "      <td>0.2073</td>\n",
       "      <td>0.1622</td>\n",
       "      <td>49.400002</td>\n",
       "      <td>YES</td>\n",
       "    </tr>\n",
       "    <tr>\n",
       "      <th>10</th>\n",
       "      <td>0.5055</td>\n",
       "      <td>0.3059</td>\n",
       "      <td>62.400002</td>\n",
       "      <td>YES</td>\n",
       "    </tr>\n",
       "    <tr>\n",
       "      <th>11</th>\n",
       "      <td>0.5273</td>\n",
       "      <td>0.1066</td>\n",
       "      <td>61.200001</td>\n",
       "      <td>YES</td>\n",
       "    </tr>\n",
       "    <tr>\n",
       "      <th>12</th>\n",
       "      <td>0.3782</td>\n",
       "      <td>0.2271</td>\n",
       "      <td>56.500000</td>\n",
       "      <td>YES</td>\n",
       "    </tr>\n",
       "    <tr>\n",
       "      <th>13</th>\n",
       "      <td>0.7782</td>\n",
       "      <td>0.4820</td>\n",
       "      <td>61.200001</td>\n",
       "      <td>YES</td>\n",
       "    </tr>\n",
       "    <tr>\n",
       "      <th>14</th>\n",
       "      <td>0.8036</td>\n",
       "      <td>0.1112</td>\n",
       "      <td>63.500000</td>\n",
       "      <td>YES</td>\n",
       "    </tr>\n",
       "    <tr>\n",
       "      <th>15</th>\n",
       "      <td>0.8473</td>\n",
       "      <td>0.2132</td>\n",
       "      <td>57.299999</td>\n",
       "      <td>YES</td>\n",
       "    </tr>\n",
       "    <tr>\n",
       "      <th>16</th>\n",
       "      <td>0.8182</td>\n",
       "      <td>1.2929</td>\n",
       "      <td>54.099998</td>\n",
       "      <td>YES</td>\n",
       "    </tr>\n",
       "    <tr>\n",
       "      <th>17</th>\n",
       "      <td>1.0727</td>\n",
       "      <td>0.0000</td>\n",
       "      <td>20.799999</td>\n",
       "      <td>YES</td>\n",
       "    </tr>\n",
       "    <tr>\n",
       "      <th>18</th>\n",
       "      <td>1.1273</td>\n",
       "      <td>0.8944</td>\n",
       "      <td>21.600000</td>\n",
       "      <td>YES</td>\n",
       "    </tr>\n",
       "    <tr>\n",
       "      <th>19</th>\n",
       "      <td>0.7600</td>\n",
       "      <td>0.2224</td>\n",
       "      <td>38.000000</td>\n",
       "      <td>YES</td>\n",
       "    </tr>\n",
       "    <tr>\n",
       "      <th>20</th>\n",
       "      <td>0.7418</td>\n",
       "      <td>-7.4146</td>\n",
       "      <td>36.900002</td>\n",
       "      <td>YES</td>\n",
       "    </tr>\n",
       "  </tbody>\n",
       "</table>\n",
       "</div>"
      ],
      "text/plain": [
       "     RelRatioVSES  RelRatioTPES  ENGINE_LOAD MaintenanceReq\n",
       "ord                                                        \n",
       "1          1.4255       -2.0576    43.099998            YES\n",
       "2          0.0000        0.5051    42.000000            YES\n",
       "3          0.2109       -0.2780    50.599998            YES\n",
       "4          0.2145        0.1715    41.200001            YES\n",
       "5          0.4618        0.8063    55.700001            YES\n",
       "6          0.3055       -0.5978    69.800003            YES\n",
       "7          0.4218       -0.0232    26.299999            YES\n",
       "8          0.3055        0.1993    47.099998            YES\n",
       "9          0.2073        0.1622    49.400002            YES\n",
       "10         0.5055        0.3059    62.400002            YES\n",
       "11         0.5273        0.1066    61.200001            YES\n",
       "12         0.3782        0.2271    56.500000            YES\n",
       "13         0.7782        0.4820    61.200001            YES\n",
       "14         0.8036        0.1112    63.500000            YES\n",
       "15         0.8473        0.2132    57.299999            YES\n",
       "16         0.8182        1.2929    54.099998            YES\n",
       "17         1.0727        0.0000    20.799999            YES\n",
       "18         1.1273        0.8944    21.600000            YES\n",
       "19         0.7600        0.2224    38.000000            YES\n",
       "20         0.7418       -7.4146    36.900002            YES"
      ]
     },
     "execution_count": 58,
     "metadata": {},
     "output_type": "execute_result"
    }
   ],
   "source": [
    "df2=df2.round(4)\n",
    "\n",
    "df2.ENGINE_LOAD = df2.ENGINE_LOAD.round(4)\n",
    "df2.head(20)\n"
   ]
  },
  {
   "cell_type": "code",
   "execution_count": 59,
   "metadata": {},
   "outputs": [],
   "source": [
    "df2=df2.replace([np.inf, -np.inf], np.nan)"
   ]
  },
  {
   "cell_type": "code",
   "execution_count": 60,
   "metadata": {},
   "outputs": [],
   "source": [
    "df2.RelRatioTPES.fillna('0.0', inplace= True)\n",
    "df2[\"RelRatioTPES\"] = pd.to_numeric(df2[\"RelRatioTPES\"],downcast='float')"
   ]
  },
  {
   "cell_type": "code",
   "execution_count": 61,
   "metadata": {},
   "outputs": [
    {
     "name": "stdout",
     "output_type": "stream",
     "text": [
      "<class 'pandas.core.frame.DataFrame'>\n",
      "Int64Index: 1000 entries, 1 to 1000\n",
      "Data columns (total 4 columns):\n",
      "RelRatioVSES      1000 non-null float32\n",
      "RelRatioTPES      1000 non-null float32\n",
      "ENGINE_LOAD       1000 non-null float32\n",
      "MaintenanceReq    1000 non-null object\n",
      "dtypes: float32(3), object(1)\n",
      "memory usage: 27.3+ KB\n"
     ]
    }
   ],
   "source": [
    "df2.info()"
   ]
  },
  {
   "cell_type": "code",
   "execution_count": 62,
   "metadata": {},
   "outputs": [
    {
     "data": {
      "text/html": [
       "<div>\n",
       "<style scoped>\n",
       "    .dataframe tbody tr th:only-of-type {\n",
       "        vertical-align: middle;\n",
       "    }\n",
       "\n",
       "    .dataframe tbody tr th {\n",
       "        vertical-align: top;\n",
       "    }\n",
       "\n",
       "    .dataframe thead th {\n",
       "        text-align: right;\n",
       "    }\n",
       "</style>\n",
       "<table border=\"1\" class=\"dataframe\">\n",
       "  <thead>\n",
       "    <tr style=\"text-align: right;\">\n",
       "      <th></th>\n",
       "      <th>RelRatioVSES</th>\n",
       "      <th>RelRatioTPES</th>\n",
       "      <th>ENGINE_LOAD</th>\n",
       "    </tr>\n",
       "  </thead>\n",
       "  <tbody>\n",
       "    <tr>\n",
       "      <th>count</th>\n",
       "      <td>1000.000000</td>\n",
       "      <td>1000.000000</td>\n",
       "      <td>1000.000000</td>\n",
       "    </tr>\n",
       "    <tr>\n",
       "      <th>mean</th>\n",
       "      <td>0.817553</td>\n",
       "      <td>-0.369948</td>\n",
       "      <td>42.949135</td>\n",
       "    </tr>\n",
       "    <tr>\n",
       "      <th>std</th>\n",
       "      <td>0.418423</td>\n",
       "      <td>18.250523</td>\n",
       "      <td>20.049782</td>\n",
       "    </tr>\n",
       "    <tr>\n",
       "      <th>min</th>\n",
       "      <td>0.000000</td>\n",
       "      <td>-454.146393</td>\n",
       "      <td>12.200000</td>\n",
       "    </tr>\n",
       "    <tr>\n",
       "      <th>25%</th>\n",
       "      <td>0.631800</td>\n",
       "      <td>-0.553800</td>\n",
       "      <td>27.100000</td>\n",
       "    </tr>\n",
       "    <tr>\n",
       "      <th>50%</th>\n",
       "      <td>0.849100</td>\n",
       "      <td>-0.000000</td>\n",
       "      <td>40.000000</td>\n",
       "    </tr>\n",
       "    <tr>\n",
       "      <th>75%</th>\n",
       "      <td>1.109100</td>\n",
       "      <td>0.690500</td>\n",
       "      <td>53.700001</td>\n",
       "    </tr>\n",
       "    <tr>\n",
       "      <th>max</th>\n",
       "      <td>2.047300</td>\n",
       "      <td>89.592003</td>\n",
       "      <td>100.000000</td>\n",
       "    </tr>\n",
       "  </tbody>\n",
       "</table>\n",
       "</div>"
      ],
      "text/plain": [
       "       RelRatioVSES  RelRatioTPES  ENGINE_LOAD\n",
       "count   1000.000000   1000.000000  1000.000000\n",
       "mean       0.817553     -0.369948    42.949135\n",
       "std        0.418423     18.250523    20.049782\n",
       "min        0.000000   -454.146393    12.200000\n",
       "25%        0.631800     -0.553800    27.100000\n",
       "50%        0.849100     -0.000000    40.000000\n",
       "75%        1.109100      0.690500    53.700001\n",
       "max        2.047300     89.592003   100.000000"
      ]
     },
     "execution_count": 62,
     "metadata": {},
     "output_type": "execute_result"
    }
   ],
   "source": [
    "df2.describe()"
   ]
  },
  {
   "cell_type": "markdown",
   "metadata": {},
   "source": [
    "# ENDGAME"
   ]
  },
  {
   "cell_type": "code",
   "execution_count": 63,
   "metadata": {
    "scrolled": true
   },
   "outputs": [
    {
     "data": {
      "text/html": [
       "<div>\n",
       "<style scoped>\n",
       "    .dataframe tbody tr th:only-of-type {\n",
       "        vertical-align: middle;\n",
       "    }\n",
       "\n",
       "    .dataframe tbody tr th {\n",
       "        vertical-align: top;\n",
       "    }\n",
       "\n",
       "    .dataframe thead th {\n",
       "        text-align: right;\n",
       "    }\n",
       "</style>\n",
       "<table border=\"1\" class=\"dataframe\">\n",
       "  <thead>\n",
       "    <tr style=\"text-align: right;\">\n",
       "      <th></th>\n",
       "      <th>RelRatioVSES</th>\n",
       "      <th>RelRatioTPES</th>\n",
       "      <th>ENGINE_LOAD</th>\n",
       "      <th>MaintenanceReq</th>\n",
       "      <th>is_train</th>\n",
       "    </tr>\n",
       "    <tr>\n",
       "      <th>ord</th>\n",
       "      <th></th>\n",
       "      <th></th>\n",
       "      <th></th>\n",
       "      <th></th>\n",
       "      <th></th>\n",
       "    </tr>\n",
       "  </thead>\n",
       "  <tbody>\n",
       "    <tr>\n",
       "      <th>1</th>\n",
       "      <td>1.4255</td>\n",
       "      <td>-2.0576</td>\n",
       "      <td>43.099998</td>\n",
       "      <td>YES</td>\n",
       "      <td>False</td>\n",
       "    </tr>\n",
       "    <tr>\n",
       "      <th>2</th>\n",
       "      <td>0.0000</td>\n",
       "      <td>0.5051</td>\n",
       "      <td>42.000000</td>\n",
       "      <td>YES</td>\n",
       "      <td>False</td>\n",
       "    </tr>\n",
       "    <tr>\n",
       "      <th>3</th>\n",
       "      <td>0.2109</td>\n",
       "      <td>-0.2780</td>\n",
       "      <td>50.599998</td>\n",
       "      <td>YES</td>\n",
       "      <td>True</td>\n",
       "    </tr>\n",
       "    <tr>\n",
       "      <th>4</th>\n",
       "      <td>0.2145</td>\n",
       "      <td>0.1715</td>\n",
       "      <td>41.200001</td>\n",
       "      <td>YES</td>\n",
       "      <td>True</td>\n",
       "    </tr>\n",
       "    <tr>\n",
       "      <th>5</th>\n",
       "      <td>0.4618</td>\n",
       "      <td>0.8063</td>\n",
       "      <td>55.700001</td>\n",
       "      <td>YES</td>\n",
       "      <td>True</td>\n",
       "    </tr>\n",
       "    <tr>\n",
       "      <th>6</th>\n",
       "      <td>0.3055</td>\n",
       "      <td>-0.5978</td>\n",
       "      <td>69.800003</td>\n",
       "      <td>YES</td>\n",
       "      <td>True</td>\n",
       "    </tr>\n",
       "    <tr>\n",
       "      <th>7</th>\n",
       "      <td>0.4218</td>\n",
       "      <td>-0.0232</td>\n",
       "      <td>26.299999</td>\n",
       "      <td>YES</td>\n",
       "      <td>False</td>\n",
       "    </tr>\n",
       "    <tr>\n",
       "      <th>8</th>\n",
       "      <td>0.3055</td>\n",
       "      <td>0.1993</td>\n",
       "      <td>47.099998</td>\n",
       "      <td>YES</td>\n",
       "      <td>False</td>\n",
       "    </tr>\n",
       "    <tr>\n",
       "      <th>9</th>\n",
       "      <td>0.2073</td>\n",
       "      <td>0.1622</td>\n",
       "      <td>49.400002</td>\n",
       "      <td>YES</td>\n",
       "      <td>True</td>\n",
       "    </tr>\n",
       "    <tr>\n",
       "      <th>10</th>\n",
       "      <td>0.5055</td>\n",
       "      <td>0.3059</td>\n",
       "      <td>62.400002</td>\n",
       "      <td>YES</td>\n",
       "      <td>True</td>\n",
       "    </tr>\n",
       "    <tr>\n",
       "      <th>11</th>\n",
       "      <td>0.5273</td>\n",
       "      <td>0.1066</td>\n",
       "      <td>61.200001</td>\n",
       "      <td>YES</td>\n",
       "      <td>True</td>\n",
       "    </tr>\n",
       "    <tr>\n",
       "      <th>12</th>\n",
       "      <td>0.3782</td>\n",
       "      <td>0.2271</td>\n",
       "      <td>56.500000</td>\n",
       "      <td>YES</td>\n",
       "      <td>True</td>\n",
       "    </tr>\n",
       "    <tr>\n",
       "      <th>13</th>\n",
       "      <td>0.7782</td>\n",
       "      <td>0.4820</td>\n",
       "      <td>61.200001</td>\n",
       "      <td>YES</td>\n",
       "      <td>True</td>\n",
       "    </tr>\n",
       "    <tr>\n",
       "      <th>14</th>\n",
       "      <td>0.8036</td>\n",
       "      <td>0.1112</td>\n",
       "      <td>63.500000</td>\n",
       "      <td>YES</td>\n",
       "      <td>False</td>\n",
       "    </tr>\n",
       "    <tr>\n",
       "      <th>15</th>\n",
       "      <td>0.8473</td>\n",
       "      <td>0.2132</td>\n",
       "      <td>57.299999</td>\n",
       "      <td>YES</td>\n",
       "      <td>True</td>\n",
       "    </tr>\n",
       "    <tr>\n",
       "      <th>16</th>\n",
       "      <td>0.8182</td>\n",
       "      <td>1.2929</td>\n",
       "      <td>54.099998</td>\n",
       "      <td>YES</td>\n",
       "      <td>True</td>\n",
       "    </tr>\n",
       "    <tr>\n",
       "      <th>17</th>\n",
       "      <td>1.0727</td>\n",
       "      <td>0.0000</td>\n",
       "      <td>20.799999</td>\n",
       "      <td>YES</td>\n",
       "      <td>True</td>\n",
       "    </tr>\n",
       "    <tr>\n",
       "      <th>18</th>\n",
       "      <td>1.1273</td>\n",
       "      <td>0.8944</td>\n",
       "      <td>21.600000</td>\n",
       "      <td>YES</td>\n",
       "      <td>True</td>\n",
       "    </tr>\n",
       "    <tr>\n",
       "      <th>19</th>\n",
       "      <td>0.7600</td>\n",
       "      <td>0.2224</td>\n",
       "      <td>38.000000</td>\n",
       "      <td>YES</td>\n",
       "      <td>True</td>\n",
       "    </tr>\n",
       "    <tr>\n",
       "      <th>20</th>\n",
       "      <td>0.7418</td>\n",
       "      <td>-7.4146</td>\n",
       "      <td>36.900002</td>\n",
       "      <td>YES</td>\n",
       "      <td>True</td>\n",
       "    </tr>\n",
       "  </tbody>\n",
       "</table>\n",
       "</div>"
      ],
      "text/plain": [
       "     RelRatioVSES  RelRatioTPES  ENGINE_LOAD MaintenanceReq  is_train\n",
       "ord                                                                  \n",
       "1          1.4255       -2.0576    43.099998            YES     False\n",
       "2          0.0000        0.5051    42.000000            YES     False\n",
       "3          0.2109       -0.2780    50.599998            YES      True\n",
       "4          0.2145        0.1715    41.200001            YES      True\n",
       "5          0.4618        0.8063    55.700001            YES      True\n",
       "6          0.3055       -0.5978    69.800003            YES      True\n",
       "7          0.4218       -0.0232    26.299999            YES     False\n",
       "8          0.3055        0.1993    47.099998            YES     False\n",
       "9          0.2073        0.1622    49.400002            YES      True\n",
       "10         0.5055        0.3059    62.400002            YES      True\n",
       "11         0.5273        0.1066    61.200001            YES      True\n",
       "12         0.3782        0.2271    56.500000            YES      True\n",
       "13         0.7782        0.4820    61.200001            YES      True\n",
       "14         0.8036        0.1112    63.500000            YES     False\n",
       "15         0.8473        0.2132    57.299999            YES      True\n",
       "16         0.8182        1.2929    54.099998            YES      True\n",
       "17         1.0727        0.0000    20.799999            YES      True\n",
       "18         1.1273        0.8944    21.600000            YES      True\n",
       "19         0.7600        0.2224    38.000000            YES      True\n",
       "20         0.7418       -7.4146    36.900002            YES      True"
      ]
     },
     "execution_count": 63,
     "metadata": {},
     "output_type": "execute_result"
    }
   ],
   "source": [
    "#Creating Train & Test data from df\n",
    "df2['is_train']= np.random.uniform(0,1,len(df2)) <= .75\n",
    "df2.head(20)"
   ]
  },
  {
   "cell_type": "code",
   "execution_count": 64,
   "metadata": {},
   "outputs": [
    {
     "name": "stdout",
     "output_type": "stream",
     "text": [
      "No of obs in train: 741\n",
      "No of obs in test: 259\n"
     ]
    }
   ],
   "source": [
    "#creating df with test rows and train rows\n",
    "train, test = df2[df2['is_train']==True], df2[df2['is_train']==False]\n",
    "#Show no of test & train observations\n",
    "print('No of obs in train:',len(train))\n",
    "print('No of obs in test:',len(test))"
   ]
  },
  {
   "cell_type": "code",
   "execution_count": 65,
   "metadata": {},
   "outputs": [
    {
     "data": {
      "text/plain": [
       "Index(['RelRatioVSES', 'RelRatioTPES', 'ENGINE_LOAD'], dtype='object')"
      ]
     },
     "execution_count": 65,
     "metadata": {},
     "output_type": "execute_result"
    }
   ],
   "source": [
    "#Creating a list of feature column's name\n",
    "features = df2.columns[:3]\n",
    "#view feature\n",
    "features"
   ]
  },
  {
   "cell_type": "code",
   "execution_count": 66,
   "metadata": {
    "scrolled": true
   },
   "outputs": [],
   "source": [
    "#Creating target\n",
    "y = pd.factorize(train['MaintenanceReq'])[0]\n",
    "z= pd.factorize(test['MaintenanceReq'])[0]"
   ]
  },
  {
   "cell_type": "code",
   "execution_count": 67,
   "metadata": {},
   "outputs": [
    {
     "name": "stdout",
     "output_type": "stream",
     "text": [
      "       RelRatioVSES  RelRatioTPES  ENGINE_LOAD\n",
      "count    741.000000    741.000000   741.000000\n",
      "mean       0.801767     -0.397166    42.576267\n",
      "std        0.421650     19.576778    20.005634\n",
      "min        0.000000   -454.146393    12.200000\n",
      "25%        0.607300     -0.528300    26.299999\n",
      "50%        0.836400      0.000000    39.599998\n",
      "75%        1.105500      0.690500    53.700001\n",
      "max        2.047300     89.592003   100.000000\n"
     ]
    }
   ],
   "source": [
    "print(train.describe())"
   ]
  },
  {
   "cell_type": "code",
   "execution_count": 68,
   "metadata": {},
   "outputs": [],
   "source": [
    "#Creating Random Forest Classifier\n",
    "clf = RandomForestClassifier()\n",
    "#Training the classifier\n",
    "#clf.fit(train[features],y)\n",
    "clf = Pipeline([(\"scale\", StandardScaler()),\n",
    "               (\"clf\", RandomForestClassifier(n_estimators=100, n_jobs=-1, verbose=2))])"
   ]
  },
  {
   "cell_type": "code",
   "execution_count": 69,
   "metadata": {
    "scrolled": true
   },
   "outputs": [
    {
     "name": "stderr",
     "output_type": "stream",
     "text": [
      "C:\\ProgramData\\Anaconda3\\lib\\site-packages\\ipykernel_launcher.py:1: SettingWithCopyWarning: \n",
      "A value is trying to be set on a copy of a slice from a DataFrame.\n",
      "Try using .loc[row_indexer,col_indexer] = value instead\n",
      "\n",
      "See the caveats in the documentation: http://pandas.pydata.org/pandas-docs/stable/indexing.html#indexing-view-versus-copy\n",
      "  \"\"\"Entry point for launching an IPython kernel.\n",
      "C:\\ProgramData\\Anaconda3\\lib\\site-packages\\pandas\\core\\indexing.py:543: SettingWithCopyWarning: \n",
      "A value is trying to be set on a copy of a slice from a DataFrame.\n",
      "Try using .loc[row_indexer,col_indexer] = value instead\n",
      "\n",
      "See the caveats in the documentation: http://pandas.pydata.org/pandas-docs/stable/indexing.html#indexing-view-versus-copy\n",
      "  self.obj[item] = s\n",
      "[Parallel(n_jobs=-1)]: Using backend ThreadingBackend with 4 concurrent workers.\n",
      "[Parallel(n_jobs=-1)]: Done  33 tasks      | elapsed:    0.1s\n"
     ]
    },
    {
     "name": "stdout",
     "output_type": "stream",
     "text": [
      "building tree 1 of 100building tree 2 of 100\n",
      "\n",
      "building tree 3 of 100\n",
      "building tree 4 of 100building tree 5 of 100\n",
      "building tree 6 of 100\n",
      "\n",
      "building tree 7 of 100\n",
      "building tree 8 of 100\n",
      "building tree 9 of 100\n",
      "building tree 10 of 100building tree 11 of 100\n",
      "\n",
      "building tree 12 of 100\n",
      "building tree 13 of 100\n",
      "building tree 14 of 100building tree 15 of 100\n",
      "building tree 16 of 100\n",
      "\n",
      "building tree 17 of 100\n",
      "building tree 18 of 100\n",
      "building tree 19 of 100\n",
      "building tree 20 of 100\n",
      "building tree 21 of 100\n",
      "building tree 22 of 100building tree 23 of 100\n",
      "\n",
      "building tree 24 of 100\n",
      "building tree 25 of 100\n",
      "building tree 26 of 100\n",
      "building tree 27 of 100\n",
      "building tree 28 of 100\n",
      "building tree 29 of 100\n",
      "building tree 30 of 100\n",
      "building tree 31 of 100\n",
      "building tree 32 of 100\n",
      "building tree 33 of 100\n",
      "building tree 34 of 100\n",
      "building tree 35 of 100\n",
      "building tree 36 of 100\n",
      "building tree 37 of 100building tree 38 of 100\n",
      "\n",
      "building tree 39 of 100\n",
      "building tree 40 of 100\n",
      "building tree 41 of 100building tree 42 of 100\n",
      "\n",
      "building tree 43 of 100\n",
      "building tree 44 of 100\n",
      "building tree 45 of 100\n",
      "building tree 46 of 100\n",
      "building tree 47 of 100\n",
      "building tree 48 of 100\n",
      "building tree 49 of 100building tree 50 of 100\n",
      "\n",
      "building tree 51 of 100building tree 52 of 100\n",
      "\n",
      "building tree 53 of 100\n",
      "building tree 54 of 100\n",
      "building tree 55 of 100\n",
      "building tree 56 of 100\n",
      "building tree 57 of 100\n",
      "building tree 58 of 100\n",
      "building tree 59 of 100\n",
      "building tree 60 of 100\n",
      "building tree 61 of 100\n",
      "building tree 62 of 100building tree 63 of 100\n",
      "\n",
      "building tree 64 of 100\n",
      "building tree 65 of 100\n",
      "building tree 66 of 100\n",
      "building tree 67 of 100\n",
      "building tree 68 of 100\n",
      "building tree 69 of 100\n",
      "building tree 70 of 100\n",
      "building tree 71 of 100\n",
      "building tree 72 of 100building tree 73 of 100\n",
      "\n",
      "building tree 74 of 100\n",
      "building tree 75 of 100\n",
      "building tree 76 of 100\n",
      "building tree 77 of 100\n",
      "building tree 78 of 100\n",
      "building tree 79 of 100\n",
      "building tree 80 of 100\n",
      "building tree 81 of 100\n",
      "building tree 82 of 100\n",
      "building tree 83 of 100\n",
      "building tree 84 of 100\n",
      "building tree 85 of 100\n",
      "building tree 86 of 100\n",
      "building tree 87 of 100building tree 88 of 100\n",
      "\n",
      "building tree 89 of 100\n",
      "building tree 90 of 100\n",
      "building tree 91 of 100\n",
      "building tree 92 of 100\n",
      "building tree 93 of 100\n",
      "building tree 94 of 100\n",
      "building tree 95 of 100\n",
      "building tree 96 of 100building tree 97 of 100\n",
      "\n",
      "building tree 98 of 100\n",
      "building tree 99 of 100\n",
      "building tree 100 of 100\n"
     ]
    },
    {
     "name": "stderr",
     "output_type": "stream",
     "text": [
      "[Parallel(n_jobs=-1)]: Done 100 out of 100 | elapsed:    0.2s finished\n"
     ]
    }
   ],
   "source": [
    "train[features] = SimpleImputer().fit_transform(train[features])\n",
    "clf=clf.fit(train[features],y)"
   ]
  },
  {
   "cell_type": "code",
   "execution_count": 70,
   "metadata": {},
   "outputs": [
    {
     "name": "stderr",
     "output_type": "stream",
     "text": [
      "C:\\ProgramData\\Anaconda3\\lib\\site-packages\\ipykernel_launcher.py:1: SettingWithCopyWarning: \n",
      "A value is trying to be set on a copy of a slice from a DataFrame.\n",
      "Try using .loc[row_indexer,col_indexer] = value instead\n",
      "\n",
      "See the caveats in the documentation: http://pandas.pydata.org/pandas-docs/stable/indexing.html#indexing-view-versus-copy\n",
      "  \"\"\"Entry point for launching an IPython kernel.\n",
      "C:\\ProgramData\\Anaconda3\\lib\\site-packages\\pandas\\core\\indexing.py:543: SettingWithCopyWarning: \n",
      "A value is trying to be set on a copy of a slice from a DataFrame.\n",
      "Try using .loc[row_indexer,col_indexer] = value instead\n",
      "\n",
      "See the caveats in the documentation: http://pandas.pydata.org/pandas-docs/stable/indexing.html#indexing-view-versus-copy\n",
      "  self.obj[item] = s\n",
      "[Parallel(n_jobs=4)]: Using backend ThreadingBackend with 4 concurrent workers.\n",
      "[Parallel(n_jobs=4)]: Done  33 tasks      | elapsed:    0.0s\n",
      "[Parallel(n_jobs=4)]: Done 100 out of 100 | elapsed:    0.0s finished\n"
     ]
    }
   ],
   "source": [
    "test[features] = SimpleImputer().fit_transform(test[features])\n",
    "preds=clf.predict(test[features])"
   ]
  },
  {
   "cell_type": "code",
   "execution_count": 71,
   "metadata": {},
   "outputs": [
    {
     "data": {
      "text/plain": [
       "ord\n",
       "1     YES\n",
       "2     YES\n",
       "7     YES\n",
       "8     YES\n",
       "14    YES\n",
       "Name: MaintenanceReq, dtype: object"
      ]
     },
     "execution_count": 71,
     "metadata": {},
     "output_type": "execute_result"
    }
   ],
   "source": [
    "test['MaintenanceReq'].head()"
   ]
  },
  {
   "cell_type": "code",
   "execution_count": 72,
   "metadata": {},
   "outputs": [
    {
     "data": {
      "text/html": [
       "<div>\n",
       "<style scoped>\n",
       "    .dataframe tbody tr th:only-of-type {\n",
       "        vertical-align: middle;\n",
       "    }\n",
       "\n",
       "    .dataframe tbody tr th {\n",
       "        vertical-align: top;\n",
       "    }\n",
       "\n",
       "    .dataframe thead th {\n",
       "        text-align: right;\n",
       "    }\n",
       "</style>\n",
       "<table border=\"1\" class=\"dataframe\">\n",
       "  <thead>\n",
       "    <tr style=\"text-align: right;\">\n",
       "      <th>Predicted Values</th>\n",
       "      <th>0</th>\n",
       "      <th>1</th>\n",
       "    </tr>\n",
       "    <tr>\n",
       "      <th>Actual Values</th>\n",
       "      <th></th>\n",
       "      <th></th>\n",
       "    </tr>\n",
       "  </thead>\n",
       "  <tbody>\n",
       "    <tr>\n",
       "      <th>NO</th>\n",
       "      <td>5</td>\n",
       "      <td>1</td>\n",
       "    </tr>\n",
       "    <tr>\n",
       "      <th>YES</th>\n",
       "      <td>252</td>\n",
       "      <td>1</td>\n",
       "    </tr>\n",
       "  </tbody>\n",
       "</table>\n",
       "</div>"
      ],
      "text/plain": [
       "Predicted Values    0  1\n",
       "Actual Values           \n",
       "NO                  5  1\n",
       "YES               252  1"
      ]
     },
     "execution_count": 72,
     "metadata": {},
     "output_type": "execute_result"
    }
   ],
   "source": [
    "#create confusion matrix\n",
    "\n",
    "pd.crosstab(test['MaintenanceReq'],preds, rownames=['Actual Values'], colnames=['Predicted Values'])"
   ]
  },
  {
   "cell_type": "code",
   "execution_count": 73,
   "metadata": {},
   "outputs": [],
   "source": [
    "#check accuracy\n",
    "def checkAccuracy(clf):\n",
    "    return accuracy_score(z,preds)\n",
    "    "
   ]
  },
  {
   "cell_type": "code",
   "execution_count": 74,
   "metadata": {},
   "outputs": [
    {
     "name": "stdout",
     "output_type": "stream",
     "text": [
      "97.68339768339769\n"
     ]
    }
   ],
   "source": [
    "acc=checkAccuracy(clf)\n",
    "\n",
    "#printing accuracy\n",
    "print(acc*100)"
   ]
  },
  {
   "cell_type": "code",
   "execution_count": 77,
   "metadata": {},
   "outputs": [],
   "source": [
    "#check for maintenance\n",
    "#df2.MaintenanceReq.value_counts()\n",
    "values = df2['MaintenanceReq'].value_counts().keys().tolist()\n",
    "counts = df2['MaintenanceReq'].value_counts().tolist()"
   ]
  },
  {
   "cell_type": "code",
   "execution_count": 78,
   "metadata": {},
   "outputs": [
    {
     "name": "stdout",
     "output_type": "stream",
     "text": [
      "['YES', 'NO']\n"
     ]
    }
   ],
   "source": [
    "print(values)\n"
   ]
  },
  {
   "cell_type": "code",
   "execution_count": 80,
   "metadata": {},
   "outputs": [
    {
     "name": "stdout",
     "output_type": "stream",
     "text": [
      "[973, 27]\n"
     ]
    }
   ],
   "source": [
    "print(counts)"
   ]
  },
  {
   "cell_type": "code",
   "execution_count": null,
   "metadata": {},
   "outputs": [],
   "source": [
    "if(counts[0]>)"
   ]
  }
 ],
 "metadata": {
  "kernelspec": {
   "display_name": "Python 3",
   "language": "python",
   "name": "python3"
  },
  "language_info": {
   "codemirror_mode": {
    "name": "ipython",
    "version": 3
   },
   "file_extension": ".py",
   "mimetype": "text/x-python",
   "name": "python",
   "nbconvert_exporter": "python",
   "pygments_lexer": "ipython3",
   "version": "3.7.1"
  }
 },
 "nbformat": 4,
 "nbformat_minor": 2
}
